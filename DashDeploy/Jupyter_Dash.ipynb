{
 "cells": [
  {
   "cell_type": "markdown",
   "metadata": {},
   "source": [
    "\n",
    "# Import necesssary Modules"
   ]
  },
  {
   "cell_type": "code",
   "execution_count": 13,
   "metadata": {
    "ExecuteTime": {
     "end_time": "2021-05-23T14:25:19.175940Z",
     "start_time": "2021-05-23T14:25:19.169243Z"
    }
   },
   "outputs": [
    {
     "data": {
      "text/html": [
       "<style>.container { width:100% !important; }</style>"
      ],
      "text/plain": [
       "<IPython.core.display.HTML object>"
      ]
     },
     "metadata": {},
     "output_type": "display_data"
    }
   ],
   "source": [
    "from IPython.core.display import display, HTML\n",
    "display(HTML(\"<style>.container { width:100% !important; }</style>\"))\n",
    "\n",
    "import re\n",
    "import dash\n",
    "from jupyter_dash import JupyterDash\n",
    "import dash_bootstrap_components as dbc\n",
    "import dash_core_components as dcc\n",
    "import dash_html_components as html\n",
    "from flask_caching.backends import FileSystemCache\n",
    "from dash_extensions.callback import CallbackCache, Trigger\n",
    "from dash.dependencies import Input, Output, State\n",
    "from pdb import set_trace\n",
    "import plotly.express as px\n",
    "import networkx as nx\n",
    "import plotly.graph_objects as go\n",
    "import _pickle as cPickle\n",
    "import pandas as pd\n",
    "import numpy as np"
   ]
  },
  {
   "cell_type": "markdown",
   "metadata": {},
   "source": [
    "# User Configurations"
   ]
  },
  {
   "cell_type": "code",
   "execution_count": 2,
   "metadata": {
    "ExecuteTime": {
     "end_time": "2021-05-23T14:22:00.878614Z",
     "start_time": "2021-05-23T14:22:00.736302Z"
    }
   },
   "outputs": [],
   "source": [
    "external_stylesheets = ['https://codepen.io/chriddyp/pen/bWLwgP.css']\n",
    "\n",
    "color_dict = {'VENDOR_ID': '#87CEFA',\n",
    "              'ACCOUNT': '#00CC96',\n",
    "              'Full_Address': '#EF553B',\n",
    "              'BUSINESS_UNIT': '#AB63FA'}"
   ]
  },
  {
   "cell_type": "markdown",
   "metadata": {},
   "source": [
    "# Utility functions "
   ]
  },
  {
   "cell_type": "markdown",
   "metadata": {},
   "source": [
    "## Compute Quarterwise PargeRank Variation"
   ]
  },
  {
   "cell_type": "code",
   "execution_count": 3,
   "metadata": {
    "ExecuteTime": {
     "end_time": "2021-05-23T14:22:01.054095Z",
     "start_time": "2021-05-23T14:22:01.047503Z"
    }
   },
   "outputs": [],
   "source": [
    "def QuarterWise_PageRankVariation(PageRank_df: 'pd.DataFrame'):\n",
    "    '''\n",
    "    Function computes QuarterWise PageRank variation for the entities\n",
    "\n",
    "\n",
    "    '''\n",
    "    # Pivot table to create quarterwise pagerank columns for each entity\n",
    "    PageRank_df = (PageRank_df.pivot_table(index=['id', 'Entity_type'],\n",
    "                                           columns='Quarter', values='pagerank',\n",
    "                                           aggfunc='first')\n",
    "                   .reset_index(drop=False))\n",
    "    PageRank_df.columns = (['id', 'Entity_type'] +\n",
    "                           ['PageRank_'+col for col in PageRank_df.columns if 'Q' in col])\n",
    "\n",
    "    pgrk_cols = [col for col in PageRank_df.columns if 'PageRank_' in col]\n",
    "\n",
    "    pr_rank_arr = PageRank_df[pgrk_cols].values\n",
    "\n",
    "    l, w = pr_rank_arr.shape\n",
    "    prct_change_arr = np.zeros((l, w-1))\n",
    "\n",
    "    for i in range(1, w):\n",
    "        prct_change_arr[:, i-1] = (pr_rank_arr[:, i] -\n",
    "                                   pr_rank_arr[:, i-1])/pr_rank_arr[:, i-1]*100\n",
    "\n",
    "    prct_cng_cols = ['PGRK_PrctCng_Q2', 'PGRK_PrctCng_Q3', 'PGRK_PrctCng_Q4']\n",
    "    prct_cng_df = pd.DataFrame(prct_change_arr, columns=prct_cng_cols)\n",
    "\n",
    "    PageRank_df = pd.concat([PageRank_df, prct_cng_df], axis=1)\n",
    "    return PageRank_df"
   ]
  },
  {
   "cell_type": "markdown",
   "metadata": {},
   "source": [
    "## Create Vendor Graph Plot"
   ]
  },
  {
   "cell_type": "code",
   "execution_count": 4,
   "metadata": {
    "ExecuteTime": {
     "end_time": "2021-05-23T14:22:03.339032Z",
     "start_time": "2021-05-23T14:22:01.416137Z"
    }
   },
   "outputs": [],
   "source": [
    "def Plot_VenGraph(Vendor, quarter):\n",
    "    Edges_df_sub = Edges_df[(Edges_df.src == Vendor) &\n",
    "                            (Edges_df.Quarter == quarter)].copy()\n",
    "\n",
    "    G = nx.from_pandas_edgelist(Edges_df_sub, 'src', 'dst')\n",
    "    pos = nx.spring_layout(G)\n",
    "\n",
    "    pos_df = pd.DataFrame(pos).T.reset_index(drop=False)\n",
    "    pos_df.columns = ['Entity', 'x', 'y']\n",
    "\n",
    "    edge_x = []\n",
    "    edge_y = []\n",
    "\n",
    "    for edge in G.edges():\n",
    "        x0, y0 = list(pos[edge[0]])  # list(pos[edge[0]])\n",
    "        x1, y1 = list(pos[edge[1]])\n",
    "        edge_x.append(x0)\n",
    "        edge_x.append(x1)\n",
    "        edge_x.append(None)\n",
    "        edge_y.append(y0)\n",
    "        edge_y.append(y1)\n",
    "        edge_y.append(None)\n",
    "\n",
    "    PageRank_df_sub = df[(df.id.isin(\n",
    "        G.nodes))]\n",
    "    PageRank_df_sub = PageRank_df_sub.merge(\n",
    "        pos_df, how='left', left_on='id', right_on='Entity')\n",
    "    PageRank_df_sub['size'] = 10\n",
    "\n",
    "    fig = (px.scatter(\n",
    "        PageRank_df_sub, x=\"x\", y=\"y\",\n",
    "        color=\"Entity_type\",\n",
    "        color_discrete_map=color_dict,\n",
    "        custom_data=[f'PageRank_{quarter}', f'PGRK_PrctCng_{quarter}'],\n",
    "        size='size',\n",
    "        opacity=0.6,\n",
    "        size_max=50,\n",
    "        text='id',\n",
    "        labels={'VENDOR_ID': 'Vendor',\n",
    "                'ACCOUNT': 'Account',\n",
    "                'Full_Address': 'Address',\n",
    "                'BUSINESS_UNIT': 'Bussiness Unit'},\n",
    "        hover_data=['id'],\n",
    "        # textfont=dict(\n",
    "        #     family=\"sans serif\",\n",
    "        #     size=18,\n",
    "        #     color=\"LightSeaGreen\"),\n",
    "    ))\n",
    "    fig.update_traces(\n",
    "    hovertemplate=\"<br>\".join([\n",
    "        \"PageRank: %{customdata[0]}\",\n",
    "        \"PageRank Variation: %{customdata[1]}\",\n",
    "    ]))\n",
    "    \n",
    "    fig.add_trace(go.Scatter(\n",
    "        x=edge_x, y=edge_y,\n",
    "        line=dict(width=0.5, color='#888'),\n",
    "        hoverinfo='none',\n",
    "        mode='lines',\n",
    "        showlegend=False))\n",
    "    fig.update_layout(\n",
    "        transition_duration=500,\n",
    "        title=f'Graph of vendor {Vendor} in {quarter}<br>',\n",
    "        xaxis=dict(visible=False, showgrid=False,\n",
    "                   zeroline=False, showticklabels=False),\n",
    "        yaxis=dict(visible=False, showgrid=False,\n",
    "                   zeroline=False, showticklabels=False),\n",
    "        legend=dict(  orientation=\"h\",\n",
    "            title_text='',\n",
    "            yanchor=\"top\",\n",
    "            y=1.0,\n",
    "            xanchor=\"right\",\n",
    "            x=0.99),\n",
    "        plot_bgcolor='rgba(0,0,0,0)',\n",
    "        margin=dict(t=75,l=30,r=10),\n",
    "        height=1000,width=1250,\n",
    "#         width=800, height=650\n",
    "    )\n",
    "    return fig"
   ]
  },
  {
   "cell_type": "code",
   "execution_count": 20,
   "metadata": {
    "ExecuteTime": {
     "end_time": "2021-05-23T14:43:15.579409Z",
     "start_time": "2021-05-23T14:43:15.571621Z"
    }
   },
   "outputs": [],
   "source": [
    "def Plot_VenGraph_new(Vendor, quarter,pos_df, edges_df):\n",
    "    \n",
    "    edge_x = []\n",
    "    edge_y = []\n",
    "\n",
    "    pos = dict(zip(pos_df.Entity, pos_df[['x', 'y']].values))\n",
    "    for edge in edges_df[['src','dst']].values:\n",
    "        x0, y0 = list(pos[edge[0]])  # list(pos[edge[0]])\n",
    "        x1, y1 = list(pos[edge[1]])\n",
    "        edge_x.append(x0)\n",
    "        edge_x.append(x1)\n",
    "        edge_x.append(None)\n",
    "        edge_y.append(y0)\n",
    "        edge_y.append(y1)\n",
    "        edge_y.append(None)\n",
    "\n",
    "    PageRank_df_sub = df[(df.id.isin(\n",
    "        pos_df.Entity))]\n",
    "    PageRank_df_sub = PageRank_df_sub.merge(\n",
    "        pos_df, how='left', left_on='id', right_on='Entity')\n",
    "    PageRank_df_sub['size'] = 10\n",
    "\n",
    "    fig = (px.scatter(\n",
    "        PageRank_df_sub, x=\"x\", y=\"y\",\n",
    "        color=\"Entity_type\",\n",
    "        color_discrete_map=color_dict,\n",
    "        custom_data=[f'PageRank_{quarter}', f'PGRK_PrctCng_{quarter}'],\n",
    "        size='size',\n",
    "        opacity=0.75,\n",
    "        size_max=50,\n",
    "        text='id',\n",
    "        labels={'VENDOR_ID': 'Vendor',\n",
    "                'ACCOUNT': 'Account',\n",
    "                'Full_Address': 'Address',\n",
    "                'BUSINESS_UNIT': 'Bussiness Unit'},\n",
    "        hover_data=['id'],\n",
    "        # textfont=dict(\n",
    "        #     family=\"sans serif\",\n",
    "        #     size=18,\n",
    "        #     color=\"LightSeaGreen\"),\n",
    "    ))\n",
    "    \n",
    "    fig.update_traces(\n",
    "        hovertemplate=\"<br>\".join([\n",
    "        \"PageRank: %{customdata[0]}\",\n",
    "        \"PageRank Variation: %{customdata[1]}\",\n",
    "    ]))\n",
    "        \n",
    "    fig.add_trace(go.Scatter(\n",
    "        x=edge_x, y=edge_y,\n",
    "        line=dict(width=0.5, color='#888'),\n",
    "        hoverinfo='none',\n",
    "        mode='lines',\n",
    "        showlegend=False))\n",
    "    fig.update_layout(\n",
    "        title=f'Graph of vendor {Vendor} in {quarter}<br>',\n",
    "        xaxis=dict(visible=False, showgrid=False,\n",
    "                   zeroline=False, showticklabels=False),\n",
    "        yaxis=dict(visible=False, showgrid=False,\n",
    "                   zeroline=False, showticklabels=False),\n",
    "        legend=dict(  orientation=\"h\",\n",
    "            title_text='',\n",
    "            yanchor=\"top\",\n",
    "            y=1.05,\n",
    "            xanchor=\"left\",\n",
    "            x=0.3),\n",
    "        plot_bgcolor='rgba(0,0,0,0)',\n",
    "        width=800, height=650)\n",
    "    return fig"
   ]
  },
  {
   "cell_type": "markdown",
   "metadata": {},
   "source": [
    "## Create Bar chart for top vendors"
   ]
  },
  {
   "cell_type": "code",
   "execution_count": 6,
   "metadata": {
    "ExecuteTime": {
     "end_time": "2021-05-23T14:22:04.624011Z",
     "start_time": "2021-05-23T14:22:03.418042Z"
    }
   },
   "outputs": [],
   "source": [
    "def plot_TopVendor_bar(quarter: 'Quarter'):\n",
    "    df_sub = (df[(df.Entity_type == 'VENDOR_ID') & (~df[f'PGRK_PrctCng_{quarter}'].isna())]\n",
    "              [['id', f'PageRank_{quarter}', f'PGRK_PrctCng_{quarter}']]\n",
    "              .sort_values(f'PGRK_PrctCng_{quarter}', ascending=True).tail(10))\n",
    "    fig = px.bar(df_sub,\n",
    "                 y=\"id\",\n",
    "                 x=f'PGRK_PrctCng_{quarter}',\n",
    "                 text='id',\n",
    "                 hover_data=[f'PageRank_{quarter}'],\n",
    "                 labels={'id': 'Vendor',\n",
    "                         f'PGRK_PrctCng_{quarter}': 'PageRank Variation (%)',\n",
    "                         f'PageRank_{quarter}': 'PageRank'},\n",
    "                orientation='h')\n",
    "    fig.update_layout(transition_duration=500,\n",
    "                      autosize=True,\n",
    "                      title_xanchor='left',\n",
    "                      title=f\"Top Vendors by PageRank variation in {quarter}\",\n",
    "                      xaxis=dict(side='top',title_standoff=0),\n",
    "                      yaxis=dict(visible=False, showgrid=False,zeroline=False, showticklabels=False),\n",
    "                      margin=dict(t=80,l=0,r=0,b=0),\n",
    "                      height=400,\n",
    "                      \n",
    "    #                       height=650\n",
    "                     )\n",
    "    return fig"
   ]
  },
  {
   "cell_type": "markdown",
   "metadata": {},
   "source": [
    "## PageRank Variation by Entity"
   ]
  },
  {
   "cell_type": "code",
   "execution_count": 7,
   "metadata": {
    "ExecuteTime": {
     "end_time": "2021-05-23T14:22:04.702444Z",
     "start_time": "2021-05-23T14:22:04.624953Z"
    }
   },
   "outputs": [],
   "source": [
    "def Entity_PRvar_bar(Vendor,quarter):\n",
    "    Edges_df_sub = Edges_df[(Edges_df.src==Vendor) & (Edges_df.Quarter==quarter)]\n",
    "\n",
    "    Edges_df_sub = Edges_df_sub[['dst','Entity_type']].merge(df[['id',f'PGRK_PrctCng_{quarter}']],left_on='dst',right_on='id',how='left')\n",
    "\n",
    "    agg_Ent_PR_var = Edges_df_sub.groupby('Entity_type').agg({f'PGRK_PrctCng_{quarter}': np.nanmean}).reset_index()\n",
    "\n",
    "    fig = px.bar(agg_Ent_PR_var,\n",
    "                 x=\"Entity_type\",\n",
    "                 y=f'PGRK_PrctCng_{quarter}',\n",
    "                 hover_data=[f'PGRK_PrctCng_{quarter}'],\n",
    "                 color=\"Entity_type\",\n",
    "                 color_discrete_map=color_dict,\n",
    "                 labels={'Entity_type': 'Entity',\n",
    "                         f'PGRK_PrctCng_{quarter}': 'PageRank Variation (%)'})\n",
    "    fig.update_layout(transition_duration=500,\n",
    "                      autosize=True,\n",
    "                      title_xanchor='left',\n",
    "                      yaxis=dict(visible=True,title=None, showgrid=True,zeroline=True, showticklabels=True),\n",
    "                      xaxis=dict(visible=True,title=None, showgrid=False,zeroline=False, showticklabels=True),\n",
    "                      title=f\"Entity PageRank variation(%) for<br>{Vendor} in {quarter}\",\n",
    "                      margin=dict(t=75,l=10,r=0),\n",
    "                      title_font_size=15,\n",
    "                      showlegend= False)\n",
    "    return fig"
   ]
  },
  {
   "cell_type": "markdown",
   "metadata": {},
   "source": [
    "# Loading Datasets"
   ]
  },
  {
   "cell_type": "code",
   "execution_count": 8,
   "metadata": {
    "ExecuteTime": {
     "end_time": "2021-05-23T14:22:04.905554Z",
     "start_time": "2021-05-23T14:22:04.703296Z"
    }
   },
   "outputs": [],
   "source": [
    "# Load data\n",
    "with open(r\"./static/PageRank_df.pkl\", \"rb\") as input_file:\n",
    "    PageRank_df = cPickle.load(input_file)\n",
    "    PageRank_df['id'] = PageRank_df.id.apply(lambda x: re.sub(', ',',<br>',x,2)) #re.sub('\\\\\\\\','p', '\\\\vbj\\\\jjbb\\\\', 2  )\n",
    "\n",
    "with open(r\"./static/Edges_df.pkl\", \"rb\") as input_file:\n",
    "    Edges_df = cPickle.load(input_file)\n",
    "    Edges_df['dst'] = Edges_df.dst.apply(lambda x: re.sub(', ',',<br>',x,2))\n",
    "    \n",
    "with open(r\"./static/Vendor_IDandName_df.pkl\", \"rb\") as input_file:\n",
    "    Vend_idName_df = cPickle.load(input_file)    "
   ]
  },
  {
   "cell_type": "markdown",
   "metadata": {},
   "source": [
    " # Preparing Inputs"
   ]
  },
  {
   "cell_type": "code",
   "execution_count": 9,
   "metadata": {
    "ExecuteTime": {
     "end_time": "2021-05-23T14:22:05.002399Z",
     "start_time": "2021-05-23T14:22:04.906714Z"
    }
   },
   "outputs": [],
   "source": [
    "ent_type_dict = pd.Series(PageRank_df.Entity_type.values,\n",
    "                          index=PageRank_df.id).to_dict()\n",
    "\n",
    "df = QuarterWise_PageRankVariation(PageRank_df).round(2)\n",
    "Edges_df = Edges_df.merge(df[['id','Entity_type']],left_on='dst',right_on='id',how='left')"
   ]
  },
  {
   "cell_type": "markdown",
   "metadata": {},
   "source": [
    "# App HTML Layout "
   ]
  },
  {
   "cell_type": "code",
   "execution_count": null,
   "metadata": {},
   "outputs": [],
   "source": []
  },
  {
   "cell_type": "code",
   "execution_count": 38,
   "metadata": {
    "ExecuteTime": {
     "end_time": "2021-05-23T15:33:51.341604Z",
     "start_time": "2021-05-23T15:33:51.338202Z"
    }
   },
   "outputs": [],
   "source": [
    "cc.cached_callback()"
   ]
  },
  {
   "cell_type": "code",
   "execution_count": 45,
   "metadata": {
    "ExecuteTime": {
     "end_time": "2021-05-23T16:12:12.831520Z",
     "start_time": "2021-05-23T16:12:12.480157Z"
    },
    "code_folding": [],
    "scrolled": false
   },
   "outputs": [
    {
     "data": {
      "text/html": [
       "\n",
       "        <iframe\n",
       "            width=\"100%\"\n",
       "            height=\"650\"\n",
       "            src=\"http://127.0.0.1:8050/\"\n",
       "            frameborder=\"0\"\n",
       "            allowfullscreen\n",
       "        ></iframe>\n",
       "        "
      ],
      "text/plain": [
       "<IPython.lib.display.IFrame at 0x7fbcd9718250>"
      ]
     },
     "metadata": {},
     "output_type": "display_data"
    },
    {
     "name": "stderr",
     "output_type": "stream",
     "text": [
      "<ipython-input-45-266f432d7bc1>:83: FutureWarning:\n",
      "\n",
      "`item` has been deprecated and will be removed in a future version\n",
      "\n"
     ]
    },
    {
     "name": "stdout",
     "output_type": "stream",
     "text": [
      "<class 'dict'>\n",
      "(1, 3) (0, 6)\n",
      "ACEBM0000006080\n",
      "\u001b[1;31m---------------------------------------------------------------------------\u001b[0m\n",
      "\u001b[1;31mTypeError\u001b[0m                                 Traceback (most recent call last)\n",
      "\u001b[1;32m<ipython-input-45-266f432d7bc1>\u001b[0m in \u001b[0;36mCreate_graph\u001b[1;34m(\n",
      "    json_dyndata={'edges_df_sub': '{\"columns\":[\"src\",\"dst\",\"n_edges\",\"Quarter\",\"id\",\"Entity_type\"],\"index\":[],\"data\":[]}', 'pos_df_sub': '{\"columns\":[\"Entity\",\"x\",\"y\"],\"index\":[0],\"data\":[[\"ACEBM0000006080\",0.3618724048,0.032422673]]}'},\n",
      "    Vendor='ACEBM0000006080',\n",
      "    quarter='Q2'\n",
      ")\u001b[0m\n",
      "\u001b[0;32m    179\u001b[0m     \u001b[0mVendor\u001b[0m \u001b[1;33m=\u001b[0m \u001b[0mVendor\u001b[0m\u001b[1;33m.\u001b[0m\u001b[0mget\u001b[0m\u001b[1;33m(\u001b[0m\u001b[1;34m'vendor'\u001b[0m\u001b[1;33m)\u001b[0m\u001b[1;33m\u001b[0m\u001b[1;33m\u001b[0m\u001b[0m\n",
      "\u001b[0;32m    180\u001b[0m     \u001b[0mprint\u001b[0m\u001b[1;33m(\u001b[0m\u001b[0mVendor\u001b[0m\u001b[1;33m)\u001b[0m\u001b[1;33m\u001b[0m\u001b[1;33m\u001b[0m\u001b[0m\n",
      "\u001b[1;32m--> 181\u001b[1;33m     \u001b[0mdatasets\u001b[0m \u001b[1;33m=\u001b[0m \u001b[0mjson\u001b[0m\u001b[1;33m.\u001b[0m\u001b[0mloads\u001b[0m\u001b[1;33m(\u001b[0m\u001b[0mjson_dyndata\u001b[0m\u001b[1;33m)\u001b[0m\u001b[1;33m\u001b[0m\u001b[1;33m\u001b[0m\u001b[0m\n",
      "\u001b[0m        \u001b[0;36mdatasets\u001b[0m \u001b[1;34m= \u001b[1;36mundefined\u001b[0m\u001b[0m\u001b[1;34m\n",
      "        \u001b[0m\u001b[1;36mglobal\u001b[0m \u001b[0;36mjson.loads\u001b[0m \u001b[1;34m= <function loads at 0x7fbd7cbb1e50>\u001b[0m\u001b[1;34m\n",
      "        \u001b[0m\u001b[0;36mjson_dyndata\u001b[0m \u001b[1;34m= {'pos_df_sub': '{\"columns\":[\"Entity\",\"x\",\"y\"],\"index\":[0],\"data\":[[\"ACEBM0000006080\",0.3618724048,0.032422673]]}', 'edges_df_sub': '{\"columns\":[\"src\",\"dst\",\"n_edges\",\"Quarter\",\"id\",\"Entity_type\"],\"index\":[],\"data\":[]}'}\u001b[0m\n",
      "\u001b[0;32m    182\u001b[0m \u001b[1;33m\u001b[0m\u001b[0m\n",
      "\u001b[0;32m    183\u001b[0m     \u001b[0mpos_df_sub\u001b[0m \u001b[1;33m=\u001b[0m \u001b[0mpd\u001b[0m\u001b[1;33m.\u001b[0m\u001b[0mread_json\u001b[0m\u001b[1;33m(\u001b[0m\u001b[0mdatasets\u001b[0m\u001b[1;33m[\u001b[0m\u001b[1;34m'pos_df_sub'\u001b[0m\u001b[1;33m]\u001b[0m\u001b[1;33m,\u001b[0m \u001b[0morient\u001b[0m\u001b[1;33m=\u001b[0m\u001b[1;34m'split'\u001b[0m\u001b[1;33m)\u001b[0m\u001b[1;33m\u001b[0m\u001b[1;33m\u001b[0m\u001b[0m\n",
      "\n",
      "\u001b[1;32m~/miniconda3/envs/DashPlotly/lib/python3.8/json/__init__.py\u001b[0m in \u001b[0;36mloads\u001b[1;34m(\n",
      "    s={'edges_df_sub': '{\"columns\":[\"src\",\"dst\",\"n_edges\",\"Quarter\",\"id\",\"Entity_type\"],\"index\":[],\"data\":[]}', 'pos_df_sub': '{\"columns\":[\"Entity\",\"x\",\"y\"],\"index\":[0],\"data\":[[\"ACEBM0000006080\",0.3618724048,0.032422673]]}'},\n",
      "    cls=None,\n",
      "    object_hook=None,\n",
      "    parse_float=None,\n",
      "    parse_int=None,\n",
      "    parse_constant=None,\n",
      "    object_pairs_hook=None,\n",
      "    **kw={}\n",
      ")\u001b[0m\n",
      "\u001b[0;32m    339\u001b[0m     \u001b[1;32melse\u001b[0m\u001b[1;33m:\u001b[0m\u001b[1;33m\u001b[0m\u001b[1;33m\u001b[0m\u001b[0m\n",
      "\u001b[0;32m    340\u001b[0m         \u001b[1;32mif\u001b[0m \u001b[1;32mnot\u001b[0m \u001b[0misinstance\u001b[0m\u001b[1;33m(\u001b[0m\u001b[0ms\u001b[0m\u001b[1;33m,\u001b[0m \u001b[1;33m(\u001b[0m\u001b[0mbytes\u001b[0m\u001b[1;33m,\u001b[0m \u001b[0mbytearray\u001b[0m\u001b[1;33m)\u001b[0m\u001b[1;33m)\u001b[0m\u001b[1;33m:\u001b[0m\u001b[1;33m\u001b[0m\u001b[1;33m\u001b[0m\u001b[0m\n",
      "\u001b[1;32m--> 341\u001b[1;33m             raise TypeError(f'the JSON object must be str, bytes or bytearray, '\n",
      "\u001b[0m        \u001b[1;36mglobal\u001b[0m \u001b[0;36mTypeError\u001b[0m \u001b[1;34m= \u001b[1;36mundefined\u001b[0m\u001b[0m\n",
      "\u001b[0;32m    342\u001b[0m                             f'not {s.__class__.__name__}')\n",
      "\u001b[0;32m    343\u001b[0m         \u001b[0ms\u001b[0m \u001b[1;33m=\u001b[0m \u001b[0ms\u001b[0m\u001b[1;33m.\u001b[0m\u001b[0mdecode\u001b[0m\u001b[1;33m(\u001b[0m\u001b[0mdetect_encoding\u001b[0m\u001b[1;33m(\u001b[0m\u001b[0ms\u001b[0m\u001b[1;33m)\u001b[0m\u001b[1;33m,\u001b[0m \u001b[1;34m'surrogatepass'\u001b[0m\u001b[1;33m)\u001b[0m\u001b[1;33m\u001b[0m\u001b[1;33m\u001b[0m\u001b[0m\n",
      "\n",
      "\u001b[1;31mTypeError\u001b[0m: the JSON object must be str, bytes or bytearray, not dict\n",
      "\n",
      "<class 'dict'>\n",
      "(1, 3) (0, 6)\n",
      "ACEBM0000006080\n",
      "\u001b[1;31m---------------------------------------------------------------------------\u001b[0m\n",
      "\u001b[1;31mTypeError\u001b[0m                                 Traceback (most recent call last)\n",
      "\u001b[1;32m<ipython-input-45-266f432d7bc1>\u001b[0m in \u001b[0;36mCreate_graph\u001b[1;34m(\n",
      "    json_dyndata={'edges_df_sub': '{\"columns\":[\"src\",\"dst\",\"n_edges\",\"Quarter\",\"id\",\"Entity_type\"],\"index\":[],\"data\":[]}', 'pos_df_sub': '{\"columns\":[\"Entity\",\"x\",\"y\"],\"index\":[0],\"data\":[[\"ACEBM0000006080\",-0.3187510669,-0.1398245692]]}'},\n",
      "    Vendor='ACEBM0000006080',\n",
      "    quarter='Q2'\n",
      ")\u001b[0m\n",
      "\u001b[0;32m    179\u001b[0m     \u001b[0mVendor\u001b[0m \u001b[1;33m=\u001b[0m \u001b[0mVendor\u001b[0m\u001b[1;33m.\u001b[0m\u001b[0mget\u001b[0m\u001b[1;33m(\u001b[0m\u001b[1;34m'vendor'\u001b[0m\u001b[1;33m)\u001b[0m\u001b[1;33m\u001b[0m\u001b[1;33m\u001b[0m\u001b[0m\n",
      "\u001b[0;32m    180\u001b[0m     \u001b[0mprint\u001b[0m\u001b[1;33m(\u001b[0m\u001b[0mVendor\u001b[0m\u001b[1;33m)\u001b[0m\u001b[1;33m\u001b[0m\u001b[1;33m\u001b[0m\u001b[0m\n",
      "\u001b[1;32m--> 181\u001b[1;33m     \u001b[0mdatasets\u001b[0m \u001b[1;33m=\u001b[0m \u001b[0mjson\u001b[0m\u001b[1;33m.\u001b[0m\u001b[0mloads\u001b[0m\u001b[1;33m(\u001b[0m\u001b[0mjson_dyndata\u001b[0m\u001b[1;33m)\u001b[0m\u001b[1;33m\u001b[0m\u001b[1;33m\u001b[0m\u001b[0m\n",
      "\u001b[0m        \u001b[0;36mdatasets\u001b[0m \u001b[1;34m= \u001b[1;36mundefined\u001b[0m\u001b[0m\u001b[1;34m\n",
      "        \u001b[0m\u001b[1;36mglobal\u001b[0m \u001b[0;36mjson.loads\u001b[0m \u001b[1;34m= <function loads at 0x7fbd7cbb1e50>\u001b[0m\u001b[1;34m\n",
      "        \u001b[0m\u001b[0;36mjson_dyndata\u001b[0m \u001b[1;34m= {'pos_df_sub': '{\"columns\":[\"Entity\",\"x\",\"y\"],\"index\":[0],\"data\":[[\"ACEBM0000006080\",-0.3187510669,-0.1398245692]]}', 'edges_df_sub': '{\"columns\":[\"src\",\"dst\",\"n_edges\",\"Quarter\",\"id\",\"Entity_type\"],\"index\":[],\"data\":[]}'}\u001b[0m\n",
      "\u001b[0;32m    182\u001b[0m \u001b[1;33m\u001b[0m\u001b[0m\n",
      "\u001b[0;32m    183\u001b[0m     \u001b[0mpos_df_sub\u001b[0m \u001b[1;33m=\u001b[0m \u001b[0mpd\u001b[0m\u001b[1;33m.\u001b[0m\u001b[0mread_json\u001b[0m\u001b[1;33m(\u001b[0m\u001b[0mdatasets\u001b[0m\u001b[1;33m[\u001b[0m\u001b[1;34m'pos_df_sub'\u001b[0m\u001b[1;33m]\u001b[0m\u001b[1;33m,\u001b[0m \u001b[0morient\u001b[0m\u001b[1;33m=\u001b[0m\u001b[1;34m'split'\u001b[0m\u001b[1;33m)\u001b[0m\u001b[1;33m\u001b[0m\u001b[1;33m\u001b[0m\u001b[0m\n",
      "\n",
      "\u001b[1;32m~/miniconda3/envs/DashPlotly/lib/python3.8/json/__init__.py\u001b[0m in \u001b[0;36mloads\u001b[1;34m(\n",
      "    s={'edges_df_sub': '{\"columns\":[\"src\",\"dst\",\"n_edges\",\"Quarter\",\"id\",\"Entity_type\"],\"index\":[],\"data\":[]}', 'pos_df_sub': '{\"columns\":[\"Entity\",\"x\",\"y\"],\"index\":[0],\"data\":[[\"ACEBM0000006080\",-0.3187510669,-0.1398245692]]}'},\n",
      "    cls=None,\n",
      "    object_hook=None,\n",
      "    parse_float=None,\n",
      "    parse_int=None,\n",
      "    parse_constant=None,\n",
      "    object_pairs_hook=None,\n",
      "    **kw={}\n",
      ")\u001b[0m\n",
      "\u001b[0;32m    339\u001b[0m     \u001b[1;32melse\u001b[0m\u001b[1;33m:\u001b[0m\u001b[1;33m\u001b[0m\u001b[1;33m\u001b[0m\u001b[0m\n",
      "\u001b[0;32m    340\u001b[0m         \u001b[1;32mif\u001b[0m \u001b[1;32mnot\u001b[0m \u001b[0misinstance\u001b[0m\u001b[1;33m(\u001b[0m\u001b[0ms\u001b[0m\u001b[1;33m,\u001b[0m \u001b[1;33m(\u001b[0m\u001b[0mbytes\u001b[0m\u001b[1;33m,\u001b[0m \u001b[0mbytearray\u001b[0m\u001b[1;33m)\u001b[0m\u001b[1;33m)\u001b[0m\u001b[1;33m:\u001b[0m\u001b[1;33m\u001b[0m\u001b[1;33m\u001b[0m\u001b[0m\n",
      "\u001b[1;32m--> 341\u001b[1;33m             raise TypeError(f'the JSON object must be str, bytes or bytearray, '\n",
      "\u001b[0m        \u001b[1;36mglobal\u001b[0m \u001b[0;36mTypeError\u001b[0m \u001b[1;34m= \u001b[1;36mundefined\u001b[0m\u001b[0m\n",
      "\u001b[0;32m    342\u001b[0m                             f'not {s.__class__.__name__}')\n",
      "\u001b[0;32m    343\u001b[0m         \u001b[0ms\u001b[0m \u001b[1;33m=\u001b[0m \u001b[0ms\u001b[0m\u001b[1;33m.\u001b[0m\u001b[0mdecode\u001b[0m\u001b[1;33m(\u001b[0m\u001b[0mdetect_encoding\u001b[0m\u001b[1;33m(\u001b[0m\u001b[0ms\u001b[0m\u001b[1;33m)\u001b[0m\u001b[1;33m,\u001b[0m \u001b[1;34m'surrogatepass'\u001b[0m\u001b[1;33m)\u001b[0m\u001b[1;33m\u001b[0m\u001b[1;33m\u001b[0m\u001b[0m\n",
      "\n",
      "\u001b[1;31mTypeError\u001b[0m: the JSON object must be str, bytes or bytearray, not dict\n",
      "\n",
      "<class 'dict'>\n",
      "(1, 3) (0, 6)\n",
      "ACEUS0000005692\n",
      "\u001b[1;31m---------------------------------------------------------------------------\u001b[0m\n",
      "\u001b[1;31mTypeError\u001b[0m                                 Traceback (most recent call last)\n",
      "\u001b[1;32m<ipython-input-45-266f432d7bc1>\u001b[0m in \u001b[0;36mCreate_graph\u001b[1;34m(\n",
      "    json_dyndata={'edges_df_sub': '{\"columns\":[\"src\",\"dst\",\"n_edges\",\"Quarter\",\"id\",\"Entity_type\"],\"index\":[],\"data\":[]}', 'pos_df_sub': '{\"columns\":[\"Entity\",\"x\",\"y\"],\"index\":[0],\"data\":[[\"ACEUS0000005692\",-0.2663887441,0.045346383]]}'},\n",
      "    Vendor='ACEUS0000005692',\n",
      "    quarter='Q2'\n",
      ")\u001b[0m\n",
      "\u001b[0;32m    179\u001b[0m     \u001b[0mVendor\u001b[0m \u001b[1;33m=\u001b[0m \u001b[0mVendor\u001b[0m\u001b[1;33m.\u001b[0m\u001b[0mget\u001b[0m\u001b[1;33m(\u001b[0m\u001b[1;34m'vendor'\u001b[0m\u001b[1;33m)\u001b[0m\u001b[1;33m\u001b[0m\u001b[1;33m\u001b[0m\u001b[0m\n",
      "\u001b[0;32m    180\u001b[0m     \u001b[0mprint\u001b[0m\u001b[1;33m(\u001b[0m\u001b[0mVendor\u001b[0m\u001b[1;33m)\u001b[0m\u001b[1;33m\u001b[0m\u001b[1;33m\u001b[0m\u001b[0m\n",
      "\u001b[1;32m--> 181\u001b[1;33m     \u001b[0mdatasets\u001b[0m \u001b[1;33m=\u001b[0m \u001b[0mjson\u001b[0m\u001b[1;33m.\u001b[0m\u001b[0mloads\u001b[0m\u001b[1;33m(\u001b[0m\u001b[0mjson_dyndata\u001b[0m\u001b[1;33m)\u001b[0m\u001b[1;33m\u001b[0m\u001b[1;33m\u001b[0m\u001b[0m\n",
      "\u001b[0m        \u001b[0;36mdatasets\u001b[0m \u001b[1;34m= \u001b[1;36mundefined\u001b[0m\u001b[0m\u001b[1;34m\n",
      "        \u001b[0m\u001b[1;36mglobal\u001b[0m \u001b[0;36mjson.loads\u001b[0m \u001b[1;34m= <function loads at 0x7fbd7cbb1e50>\u001b[0m\u001b[1;34m\n",
      "        \u001b[0m\u001b[0;36mjson_dyndata\u001b[0m \u001b[1;34m= {'pos_df_sub': '{\"columns\":[\"Entity\",\"x\",\"y\"],\"index\":[0],\"data\":[[\"ACEUS0000005692\",-0.2663887441,0.045346383]]}', 'edges_df_sub': '{\"columns\":[\"src\",\"dst\",\"n_edges\",\"Quarter\",\"id\",\"Entity_type\"],\"index\":[],\"data\":[]}'}\u001b[0m\n",
      "\u001b[0;32m    182\u001b[0m \u001b[1;33m\u001b[0m\u001b[0m\n",
      "\u001b[0;32m    183\u001b[0m     \u001b[0mpos_df_sub\u001b[0m \u001b[1;33m=\u001b[0m \u001b[0mpd\u001b[0m\u001b[1;33m.\u001b[0m\u001b[0mread_json\u001b[0m\u001b[1;33m(\u001b[0m\u001b[0mdatasets\u001b[0m\u001b[1;33m[\u001b[0m\u001b[1;34m'pos_df_sub'\u001b[0m\u001b[1;33m]\u001b[0m\u001b[1;33m,\u001b[0m \u001b[0morient\u001b[0m\u001b[1;33m=\u001b[0m\u001b[1;34m'split'\u001b[0m\u001b[1;33m)\u001b[0m\u001b[1;33m\u001b[0m\u001b[1;33m\u001b[0m\u001b[0m\n",
      "\n",
      "\u001b[1;32m~/miniconda3/envs/DashPlotly/lib/python3.8/json/__init__.py\u001b[0m in \u001b[0;36mloads\u001b[1;34m(\n",
      "    s={'edges_df_sub': '{\"columns\":[\"src\",\"dst\",\"n_edges\",\"Quarter\",\"id\",\"Entity_type\"],\"index\":[],\"data\":[]}', 'pos_df_sub': '{\"columns\":[\"Entity\",\"x\",\"y\"],\"index\":[0],\"data\":[[\"ACEUS0000005692\",-0.2663887441,0.045346383]]}'},\n",
      "    cls=None,\n",
      "    object_hook=None,\n",
      "    parse_float=None,\n",
      "    parse_int=None,\n",
      "    parse_constant=None,\n",
      "    object_pairs_hook=None,\n",
      "    **kw={}\n",
      ")\u001b[0m\n",
      "\u001b[0;32m    339\u001b[0m     \u001b[1;32melse\u001b[0m\u001b[1;33m:\u001b[0m\u001b[1;33m\u001b[0m\u001b[1;33m\u001b[0m\u001b[0m\n",
      "\u001b[0;32m    340\u001b[0m         \u001b[1;32mif\u001b[0m \u001b[1;32mnot\u001b[0m \u001b[0misinstance\u001b[0m\u001b[1;33m(\u001b[0m\u001b[0ms\u001b[0m\u001b[1;33m,\u001b[0m \u001b[1;33m(\u001b[0m\u001b[0mbytes\u001b[0m\u001b[1;33m,\u001b[0m \u001b[0mbytearray\u001b[0m\u001b[1;33m)\u001b[0m\u001b[1;33m)\u001b[0m\u001b[1;33m:\u001b[0m\u001b[1;33m\u001b[0m\u001b[1;33m\u001b[0m\u001b[0m\n",
      "\u001b[1;32m--> 341\u001b[1;33m             raise TypeError(f'the JSON object must be str, bytes or bytearray, '\n",
      "\u001b[0m        \u001b[1;36mglobal\u001b[0m \u001b[0;36mTypeError\u001b[0m \u001b[1;34m= \u001b[1;36mundefined\u001b[0m\u001b[0m\n",
      "\u001b[0;32m    342\u001b[0m                             f'not {s.__class__.__name__}')\n",
      "\u001b[0;32m    343\u001b[0m         \u001b[0ms\u001b[0m \u001b[1;33m=\u001b[0m \u001b[0ms\u001b[0m\u001b[1;33m.\u001b[0m\u001b[0mdecode\u001b[0m\u001b[1;33m(\u001b[0m\u001b[0mdetect_encoding\u001b[0m\u001b[1;33m(\u001b[0m\u001b[0ms\u001b[0m\u001b[1;33m)\u001b[0m\u001b[1;33m,\u001b[0m \u001b[1;34m'surrogatepass'\u001b[0m\u001b[1;33m)\u001b[0m\u001b[1;33m\u001b[0m\u001b[1;33m\u001b[0m\u001b[0m\n",
      "\n",
      "\u001b[1;31mTypeError\u001b[0m: the JSON object must be str, bytes or bytearray, not dict\n",
      "\n"
     ]
    }
   ],
   "source": [
    "# App initaialization\n",
    "\n",
    "# external deployment\n",
    "# app = dash.Dash(__name__, external_stylesheets=external_stylesheets)\n",
    "\n",
    "# deployment within notebook\n",
    "app = JupyterDash(__name__, \n",
    "                  external_stylesheets=[dbc.themes.BOOTSTRAP])\n",
    "\n",
    "cc = CallbackCache(cache=FileSystemCache(cache_dir=\"cache\"))\n",
    "\n",
    "\n",
    "# Layout design\n",
    "\n",
    "app.layout = html.Div([\n",
    "    dbc.Container([\n",
    "        dbc.Row([\n",
    "            dbc.Col([\n",
    "                html.Div([\n",
    "                    html.H2(children='PageRank Analysis for top Vendors'),\n",
    "                    html.Label('Select Quarter'),\n",
    "                    dcc.Dropdown(\n",
    "                        id='select-quarter',\n",
    "                        options=[\n",
    "                            {'label': 'Q2', 'value': 'Q2'},\n",
    "                            {'label': 'Q3', 'value': 'Q3'},\n",
    "                            {'label': 'Q4', 'value': 'Q4'}],\n",
    "                        value='Q2',\n",
    "                        clearable=False),\n",
    "                    dcc.Graph(id='top-vendor-bar'),\n",
    "                    dcc.Graph(id='entity-prv-bar')])\n",
    "            ], id='top-vendors', width=3),\n",
    "\n",
    "            dbc.Col([\n",
    "                html.Div([\n",
    "                    dbc.Row([\n",
    "                        dbc.Col([html.H5(id='select-quarter-vendor-graph',\n",
    "                                          style={\"margin-top\": \"10px\",\n",
    "                                                 \"margin-right\": \"10px\",\n",
    "                                                 \"margin-left\": \"45px\"})],width=6),\n",
    "                        dbc.Col([dcc.RadioItems(\n",
    "                            id='user-selected-quarter',\n",
    "                            options=[\n",
    "                                {'label': 'Q2 ', 'value': 'Q2'},\n",
    "                                {'label': 'Q3 ', 'value': 'Q3'},\n",
    "                                {'label': 'Q4 ', 'value': 'Q4'}],\n",
    "                            value='Q2',\n",
    "                            labelStyle={'display': 'inline-block',\n",
    "                                        \"margin-top\": \"10px\",\n",
    "                                        \"margin-right\": \"15px\",\n",
    "                                        \"margin-left\": \"15px\"}\n",
    "                        )],width=6)\n",
    "                    ]),\n",
    "                    dcc.Graph(id='vendor-graph')\n",
    "                ])\n",
    "            ], width=9)\n",
    "        ])\n",
    "    ]),\n",
    "    dcc.Store(id='selected-vendor'),\n",
    "    dcc.Loading(dcc.Store(id=\"intermediate-value\"), fullscreen=True, type=\"dot\"),\n",
    "    dcc.Loading(dcc.Store(id=\"dynamic-value\"), fullscreen=True, type=\"dot\")\n",
    "])\n",
    "\n",
    "\n",
    "@app.callback(\n",
    "    Output('select-quarter-vendor-graph', 'children'),\n",
    "    Input('selected-vendor', 'data'))\n",
    "def update_vendor_radiotit(Vendor):\n",
    "    return f\"View {Vendor.get('vendor')} graph in: \"\n",
    "\n",
    "\n",
    "@app.callback(\n",
    "    Output('selected-vendor', 'data'),\n",
    "    Input('top-vendor-bar', 'hoverData'),\n",
    "    Input('select-quarter', 'value'))\n",
    "def update_vendor(Vendor, quarter):\n",
    "    if Vendor is not None:\n",
    "        Vendor = Vendor['points'][0]['label']\n",
    "    else:\n",
    "        df_sub = (df[(df.Entity_type == 'VENDOR_ID') & (~df[f'PGRK_PrctCng_{quarter}'].isna())]\n",
    "                  [['id', f'PageRank_{quarter}', f'PGRK_PrctCng_{quarter}']]\n",
    "                  .sort_values(f'PGRK_PrctCng_{quarter}', ascending=False).head(1))\n",
    "        Vendor = df_sub.id.item()\n",
    "    return {'vendor': Vendor}\n",
    "\n",
    "\n",
    "@app.callback(\n",
    "    Output('user-selected-quarter', 'value'),\n",
    "    Input('select-quarter', 'value'),\n",
    "    Input('top-vendor-bar', 'hoverData'))\n",
    "def update_quarter_radio(quarter: 'Quarter',Vendor: 'Vendor'):\n",
    "    return quarter\n",
    "\n",
    "\n",
    "@app.callback(\n",
    "    Output('top-vendor-bar', 'figure'),\n",
    "    Input('select-quarter', 'value'))\n",
    "def create_TopVendor_bar(quarter: 'Quarter'):\n",
    "    return plot_TopVendor_bar(quarter)\n",
    "\n",
    "\n",
    "@app.callback(\n",
    "    Output('top-vendor-bar', 'hoverData'),\n",
    "    Input('select-quarter', 'value'))\n",
    "def update_hover_data(quarter):\n",
    "    return None\n",
    "\n",
    "@cc.cached_callback(\n",
    "    Output(\"intermediate-value\", \"data\"),\n",
    "    [Input('selected-vendor', 'data'),\n",
    "    Input('user-selected-quarter', 'value')])\n",
    "def get_edges(Vendor,quarter):\n",
    "    Vendor = Vendor.get('vendor')\n",
    "    Edges_df_sub = Edges_df[(Edges_df.src == Vendor) &\n",
    "                            (Edges_df.Quarter == quarter)].copy()\n",
    "    ent_edges_df = Edges_df[Edges_df.dst.isin(Edges_df_sub.dst) & (Edges_df.Quarter == quarter) & (Edges_df.src!=Vendor)].copy()\n",
    "    ent_edges_df.rename(columns={'src':'dst','dst':'src'}, inplace=True)\n",
    "    ent_edges_df = ent_edges_df[Edges_df_sub.columns]\n",
    "    Edges_df_sub = pd.concat([Edges_df_sub,ent_edges_df],axis=0).reset_index(drop=True)\n",
    "    \n",
    "    ## compute node positions  \n",
    "    G = nx.from_pandas_edgelist(Edges_df_sub, 'src', 'dst')\n",
    "    pos = nx.spring_layout(G)\n",
    "\n",
    "    pos_df = pd.DataFrame(pos).T.reset_index(drop=False)\n",
    "    pos_df.columns = ['Entity', 'x', 'y']\n",
    "    return {'pos_df':pos_df,'edges_df':Edges_df_sub}\n",
    "\n",
    "@cc.callback(\n",
    "    Output('dynamic-value', 'data'),\n",
    "    [Input(\"intermediate-value\", \"data\"),\n",
    "     Input('vendor-graph', 'clickData')],\n",
    "    [State('selected-vendor', 'data'),\n",
    "     State('user-selected-quarter', 'value'),\n",
    "     State('dynamic-value', 'data')])\n",
    "def update_dynamic_dat(json_data, click_data,Vendor, quarter,json_dyndata):\n",
    "    Vendor = Vendor.get('vendor')\n",
    "    \n",
    "    print(type(json_data))\n",
    "    \n",
    "    pos_df = json_data['pos_df']\n",
    "    Edges_df = json_data['edges_df']\n",
    "    \n",
    "    \n",
    "    \n",
    "    if click_data is None:\n",
    "        pos_df_sub = pos_df[pos_df.Entity==Vendor]\n",
    "        Edges_df_sub = Edges_df.head(0)\n",
    "    else:\n",
    "        datasets = json.loads(json_dyndata)\n",
    "        ent = click_data['points'][0]['text']\n",
    "        dynamic_df = pd.read_json(datasets['edges_df_sub'], orient='split')\n",
    "        if ent in dynamic_df.src:\n",
    "            Edges_df_sub = dynamic_df[dynamic_df.src!=ent]\n",
    "            pos_df_sub = pos_df[pos_df.Entity.isin(set(Edges_df_sub.src.tolist()+ Edges_df_sub.dst.tolist() + [Vendor]))]\n",
    "        else:\n",
    "            Edges_df_sub = pd.concat([dynamic_df,Edges_df[(Edges_df.src==ent) & (Edges_df.dst!=Vendor)]])\n",
    "            pos_df_sub = pos_df[pos_df.Entity.isin(set(Edges_df_sub.src.tolist()+ Edges_df_sub.dst.tolist()))]\n",
    "    print(pos_df_sub.shape,Edges_df_sub.shape)\n",
    "    return {'pos_df_sub': pos_df_sub.to_json(date_format='iso', orient='split'),\n",
    "            'edges_df_sub':Edges_df_sub.to_json(date_format='iso', orient='split')}\n",
    "    \n",
    "\n",
    "@app.callback(\n",
    "    Output('entity-prv-bar', 'figure'),\n",
    "    [Input('selected-vendor', 'data'),\n",
    "    Input('select-quarter', 'value')])\n",
    "def create_Ent_bar(Vendor,quarter):\n",
    "    Vendor = Vendor.get('vendor')\n",
    "    return Entity_PRvar_bar(Vendor,quarter)\n",
    "\n",
    "\n",
    "@cc.callback(\n",
    "    [Output('vendor-graph', 'figure')],\n",
    "    [State('selected-vendor', 'data'),\n",
    "     State('user-selected-quarter', 'value')],\n",
    "    [State('dynamic-value', 'data')])\n",
    "def Create_graph(json_dyndata,Vendor, quarter):\n",
    "    Vendor = Vendor.get('vendor')\n",
    "    print(Vendor)\n",
    "    datasets = json.loads(json_dyndata)\n",
    "    \n",
    "    pos_df_sub = pd.read_json(datasets['pos_df_sub'], orient='split')\n",
    "    Edges_df_sub = pd.read_json(datasets['edges_df_sub'], orient='split')\n",
    "    return Plot_VenGraph_new(Vendor, quarter,pos_df_sub,Edges_df_sub)\n",
    "\n",
    "cc.register(app)\n",
    "\n",
    "app.run_server(mode='inline')"
   ]
  },
  {
   "cell_type": "markdown",
   "metadata": {},
   "source": [
    "### PageRank Variation by Entity"
   ]
  },
  {
   "cell_type": "code",
   "execution_count": 54,
   "metadata": {
    "ExecuteTime": {
     "end_time": "2021-05-23T08:06:39.710949Z",
     "start_time": "2021-05-23T08:06:39.704071Z"
    }
   },
   "outputs": [],
   "source": [
    "Vendor = 'ACEUS0000032144'\n",
    "quarter = 'Q3'\n",
    "PageRank Variation by Entity\n",
    "def Entity_PRvar_bar(Vendor,quarter):\n",
    "    Edges_df_sub = Edges_df[(Edges_df.src==Vendor) & (Edges_df.Quarter==quarter)]\n",
    "\n",
    "    Edges_df_sub = Edges_df_sub[['dst','Entity_type']].merge(df[['id',f'PGRK_PrctCng_{quarter}']],left_on='dst',right_on='id',how='left')\n",
    "\n",
    "    agg_Ent_PR_var = Edges_df_sub.groupby('Entity_type').agg({f'PGRK_PrctCng_{quarter}': np.nanmean}).reset_index()\n",
    "\n",
    "    fig = px.bar(agg_Ent_PR_var,\n",
    "                 x=\"Entity_type\",\n",
    "                 y=f'PGRK_PrctCng_{quarter}',\n",
    "                 hover_data=[f'PGRK_PrctCng_{quarter}'],\n",
    "                 color=\"Entity_type\",\n",
    "                 color_discrete_map=color_dict,\n",
    "                 labels={'Entity_type': 'Entity',\n",
    "                         f'PGRK_PrctCng_{quarter}': 'PageRank Variation (%)'})\n",
    "    fig.update_layout(transition_duration=500,\n",
    "                      autosize=True,\n",
    "                      title_xanchor='left',\n",
    "                      title=f\"Entity PageRank variation for {Vendor} in {quarter}\",\n",
    "                      margin=dict(t=100,l=0,r=0),\n",
    "                      #xaxis=dict(side='top', title_standoff=0),\n",
    "                      showlegend= False)\n",
    "    return fig"
   ]
  },
  {
   "cell_type": "code",
   "execution_count": null,
   "metadata": {},
   "outputs": [],
   "source": []
  }
 ],
 "metadata": {
  "kernelspec": {
   "display_name": "DashPlotly",
   "language": "python",
   "name": "dashplotly"
  },
  "language_info": {
   "codemirror_mode": {
    "name": "ipython",
    "version": 3
   },
   "file_extension": ".py",
   "mimetype": "text/x-python",
   "name": "python",
   "nbconvert_exporter": "python",
   "pygments_lexer": "ipython3",
   "version": "3.8.8"
  },
  "toc": {
   "base_numbering": 1,
   "nav_menu": {},
   "number_sections": true,
   "sideBar": true,
   "skip_h1_title": false,
   "title_cell": "Table of Contents",
   "title_sidebar": "Contents",
   "toc_cell": false,
   "toc_position": {},
   "toc_section_display": true,
   "toc_window_display": false
  }
 },
 "nbformat": 4,
 "nbformat_minor": 4
}
