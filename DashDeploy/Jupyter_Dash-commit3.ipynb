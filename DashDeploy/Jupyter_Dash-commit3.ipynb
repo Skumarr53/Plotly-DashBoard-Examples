{
 "cells": [
  {
   "cell_type": "markdown",
   "metadata": {},
   "source": [
    "\n",
    "# Import necesssary Modules"
   ]
  },
  {
   "cell_type": "code",
   "execution_count": 4,
   "metadata": {
    "ExecuteTime": {
     "end_time": "2021-05-23T07:28:23.311817Z",
     "start_time": "2021-05-23T07:28:23.305741Z"
    }
   },
   "outputs": [
    {
     "data": {
      "text/html": [
       "<style>.container { width:100% !important; }</style>"
      ],
      "text/plain": [
       "<IPython.core.display.HTML object>"
      ]
     },
     "metadata": {},
     "output_type": "display_data"
    }
   ],
   "source": [
    "from IPython.core.display import display, HTML\n",
    "display(HTML(\"<style>.container { width:100% !important; }</style>\"))\n",
    "\n",
    "import re\n",
    "import dash\n",
    "from jupyter_dash import JupyterDash\n",
    "import dash_bootstrap_components as dbc\n",
    "import dash_core_components as dcc\n",
    "import dash_html_components as html\n",
    "from dash.dependencies import Input, Output, State\n",
    "import plotly.express as px\n",
    "import networkx as nx\n",
    "import plotly.graph_objects as go\n",
    "import _pickle as cPickle\n",
    "import pandas as pd\n",
    "import numpy as np"
   ]
  },
  {
   "cell_type": "markdown",
   "metadata": {},
   "source": [
    "# User Configurations"
   ]
  },
  {
   "cell_type": "code",
   "execution_count": 5,
   "metadata": {
    "ExecuteTime": {
     "end_time": "2021-05-23T07:28:23.851119Z",
     "start_time": "2021-05-23T07:28:23.848551Z"
    }
   },
   "outputs": [],
   "source": [
    "external_stylesheets = ['https://codepen.io/chriddyp/pen/bWLwgP.css']\n",
    "\n",
    "color_dict = {'VENDOR_ID': '#87CEFA',\n",
    "              'ACCOUNT': '#00CC96',\n",
    "              'Full_Address': '#EF553B',\n",
    "              'BUSINESS_UNIT': '#AB63FA'}"
   ]
  },
  {
   "cell_type": "markdown",
   "metadata": {},
   "source": [
    "# Utility functions "
   ]
  },
  {
   "cell_type": "markdown",
   "metadata": {},
   "source": [
    "## Compute Quarterwise PargeRank Variation"
   ]
  },
  {
   "cell_type": "code",
   "execution_count": 6,
   "metadata": {
    "ExecuteTime": {
     "end_time": "2021-05-23T07:28:24.526900Z",
     "start_time": "2021-05-23T07:28:24.519953Z"
    }
   },
   "outputs": [],
   "source": [
    "def QuarterWise_PageRankVariation(PageRank_df: 'pd.DataFrame'):\n",
    "    '''\n",
    "    Function computes QuarterWise PageRank variation for the entities\n",
    "\n",
    "\n",
    "    '''\n",
    "    # Pivot table to create quarterwise pagerank columns for each entity\n",
    "    PageRank_df = (PageRank_df.pivot_table(index=['id', 'Entity_type'],\n",
    "                                           columns='Quarter', values='pagerank',\n",
    "                                           aggfunc='first')\n",
    "                   .reset_index(drop=False))\n",
    "    PageRank_df.columns = (['id', 'Entity_type'] +\n",
    "                           ['PageRank_'+col for col in PageRank_df.columns if 'Q' in col])\n",
    "\n",
    "    pgrk_cols = [col for col in PageRank_df.columns if 'PageRank_' in col]\n",
    "\n",
    "    pr_rank_arr = PageRank_df[pgrk_cols].values\n",
    "\n",
    "    l, w = pr_rank_arr.shape\n",
    "    prct_change_arr = np.zeros((l, w-1))\n",
    "\n",
    "    for i in range(1, w):\n",
    "        prct_change_arr[:, i-1] = (pr_rank_arr[:, i] -\n",
    "                                   pr_rank_arr[:, i-1])/pr_rank_arr[:, i-1]*100\n",
    "\n",
    "    prct_cng_cols = ['PGRK_PrctCng_Q2', 'PGRK_PrctCng_Q3', 'PGRK_PrctCng_Q4']\n",
    "    prct_cng_df = pd.DataFrame(prct_change_arr, columns=prct_cng_cols)\n",
    "\n",
    "    PageRank_df = pd.concat([PageRank_df, prct_cng_df], axis=1)\n",
    "    return PageRank_df"
   ]
  },
  {
   "cell_type": "markdown",
   "metadata": {},
   "source": [
    "## Create Vendor Graph Plot"
   ]
  },
  {
   "cell_type": "code",
   "execution_count": 129,
   "metadata": {
    "ExecuteTime": {
     "end_time": "2021-05-23T11:32:11.088451Z",
     "start_time": "2021-05-23T11:32:11.079858Z"
    }
   },
   "outputs": [],
   "source": [
    "def Plot_VenGraph(Vendor, quarter):\n",
    "    Edges_df_sub = Edges_df[(Edges_df.src == Vendor) &\n",
    "                            (Edges_df.Quarter == quarter)].copy()\n",
    "\n",
    "    G = nx.from_pandas_edgelist(Edges_df_sub, 'src', 'dst')\n",
    "    pos = nx.spring_layout(G)\n",
    "\n",
    "    pos_df = pd.DataFrame(pos).T.reset_index(drop=False)\n",
    "    pos_df.columns = ['Entity', 'x', 'y']\n",
    "\n",
    "    edge_x = []\n",
    "    edge_y = []\n",
    "\n",
    "    for edge in G.edges():\n",
    "        x0, y0 = list(pos[edge[0]])  # list(pos[edge[0]])\n",
    "        x1, y1 = list(pos[edge[1]])\n",
    "        edge_x.append(x0)\n",
    "        edge_x.append(x1)\n",
    "        edge_x.append(None)\n",
    "        edge_y.append(y0)\n",
    "        edge_y.append(y1)\n",
    "        edge_y.append(None)\n",
    "\n",
    "    PageRank_df_sub = df[(df.id.isin(\n",
    "        G.nodes))]\n",
    "    PageRank_df_sub = PageRank_df_sub.merge(\n",
    "        pos_df, how='left', left_on='id', right_on='Entity')\n",
    "    PageRank_df_sub['size'] = 10\n",
    "\n",
    "    fig = (px.scatter(\n",
    "        PageRank_df_sub, x=\"x\", y=\"y\",\n",
    "        color=\"Entity_type\",\n",
    "        color_discrete_map=color_dict,\n",
    "        custom_data=[f'PageRank_{quarter}', f'PGRK_PrctCng_{quarter}'],\n",
    "        size='size',\n",
    "        opacity=0.6,\n",
    "        size_max=50,\n",
    "        text='id',\n",
    "        labels={'VENDOR_ID': 'Vendor',\n",
    "                'ACCOUNT': 'Account',\n",
    "                'Full_Address': 'Address',\n",
    "                'BUSINESS_UNIT': 'Bussiness Unit'},\n",
    "        hover_data=['id'],\n",
    "        # textfont=dict(\n",
    "        #     family=\"sans serif\",\n",
    "        #     size=18,\n",
    "        #     color=\"LightSeaGreen\"),\n",
    "    ))\n",
    "    fig.update_traces(\n",
    "    hovertemplate=\"<br>\".join([\n",
    "        \"PageRank: %{customdata[0]}\",\n",
    "        \"PageRank Variation: %{customdata[1]}\",\n",
    "    ]))\n",
    "    \n",
    "    fig.add_trace(go.Scatter(\n",
    "        x=edge_x, y=edge_y,\n",
    "        line=dict(width=0.5, color='#888'),\n",
    "        hoverinfo='none',\n",
    "        mode='lines',\n",
    "        showlegend=False))\n",
    "    fig.update_layout(\n",
    "        transition_duration=500,\n",
    "        title=f'Graph of vendor {Vendor} in {quarter}<br>',\n",
    "        xaxis=dict(visible=False, showgrid=False,\n",
    "                   zeroline=False, showticklabels=False),\n",
    "        yaxis=dict(visible=False, showgrid=False,\n",
    "                   zeroline=False, showticklabels=False),\n",
    "        legend=dict(  orientation=\"h\",\n",
    "            title_text='',\n",
    "            yanchor=\"top\",\n",
    "            y=1.0,\n",
    "            xanchor=\"right\",\n",
    "            x=0.99),\n",
    "        plot_bgcolor='rgba(0,0,0,0)',\n",
    "        margin=dict(t=75,l=30,r=10),\n",
    "        height=1000,width=1250,\n",
    "#         width=800, height=650\n",
    "    )\n",
    "    return fig"
   ]
  },
  {
   "cell_type": "markdown",
   "metadata": {},
   "source": [
    "## Create Bar chart for top vendors"
   ]
  },
  {
   "cell_type": "code",
   "execution_count": 100,
   "metadata": {
    "ExecuteTime": {
     "end_time": "2021-05-23T10:53:01.181600Z",
     "start_time": "2021-05-23T10:53:01.174236Z"
    }
   },
   "outputs": [],
   "source": [
    "def plot_TopVendor_bar(quarter: 'Quarter'):\n",
    "    df_sub = (df[(df.Entity_type == 'VENDOR_ID') & (~df[f'PGRK_PrctCng_{quarter}'].isna())]\n",
    "              [['id', f'PageRank_{quarter}', f'PGRK_PrctCng_{quarter}']]\n",
    "              .sort_values(f'PGRK_PrctCng_{quarter}', ascending=True).tail(10))\n",
    "    fig = px.bar(df_sub,\n",
    "                 y=\"id\",\n",
    "                 x=f'PGRK_PrctCng_{quarter}',\n",
    "                 text='id',\n",
    "                 hover_data=[f'PageRank_{quarter}'],\n",
    "                 labels={'id': 'Vendor',\n",
    "                         f'PGRK_PrctCng_{quarter}': 'PageRank Variation (%)',\n",
    "                         f'PageRank_{quarter}': 'PageRank'},\n",
    "                orientation='h')\n",
    "    fig.update_layout(transition_duration=500,\n",
    "                      autosize=True,\n",
    "                      title_xanchor='left',\n",
    "                      title=f\"Top Vendors by PageRank variation in {quarter}\",\n",
    "                      xaxis=dict(side='top',title_standoff=0),\n",
    "                      yaxis=dict(visible=False, showgrid=False,zeroline=False, showticklabels=False),\n",
    "                      margin=dict(t=80,l=0,r=0,b=0),\n",
    "                      height=400,\n",
    "                      \n",
    "    #                       height=650\n",
    "                     )\n",
    "    return fig"
   ]
  },
  {
   "cell_type": "markdown",
   "metadata": {},
   "source": [
    "## PageRank Variation by Entity"
   ]
  },
  {
   "cell_type": "code",
   "execution_count": 117,
   "metadata": {
    "ExecuteTime": {
     "end_time": "2021-05-23T11:20:35.794288Z",
     "start_time": "2021-05-23T11:20:35.789812Z"
    }
   },
   "outputs": [],
   "source": [
    "def Entity_PRvar_bar(Vendor,quarter):\n",
    "    Edges_df_sub = Edges_df[(Edges_df.src==Vendor) & (Edges_df.Quarter==quarter)]\n",
    "\n",
    "    Edges_df_sub = Edges_df_sub[['dst','Entity_type']].merge(df[['id',f'PGRK_PrctCng_{quarter}']],left_on='dst',right_on='id',how='left')\n",
    "\n",
    "    agg_Ent_PR_var = Edges_df_sub.groupby('Entity_type').agg({f'PGRK_PrctCng_{quarter}': np.nanmean}).reset_index()\n",
    "\n",
    "    fig = px.bar(agg_Ent_PR_var,\n",
    "                 x=\"Entity_type\",\n",
    "                 y=f'PGRK_PrctCng_{quarter}',\n",
    "                 hover_data=[f'PGRK_PrctCng_{quarter}'],\n",
    "                 color=\"Entity_type\",\n",
    "                 color_discrete_map=color_dict,\n",
    "                 labels={'Entity_type': 'Entity',\n",
    "                         f'PGRK_PrctCng_{quarter}': 'PageRank Variation (%)'})\n",
    "    fig.update_layout(transition_duration=500,\n",
    "                      autosize=True,\n",
    "                      title_xanchor='left',\n",
    "                      yaxis=dict(visible=True,title=None, showgrid=True,zeroline=True, showticklabels=True),\n",
    "                      xaxis=dict(visible=True,title=None, showgrid=False,zeroline=False, showticklabels=True),\n",
    "                      title=f\"Entity PageRank variation(%) for<br>{Vendor} in {quarter}\",\n",
    "                      margin=dict(t=75,l=10,r=0),\n",
    "                      title_font_size=15,\n",
    "                      showlegend= False)\n",
    "    return fig"
   ]
  },
  {
   "cell_type": "markdown",
   "metadata": {},
   "source": [
    "# Loading Datasets"
   ]
  },
  {
   "cell_type": "code",
   "execution_count": 24,
   "metadata": {
    "ExecuteTime": {
     "end_time": "2021-05-23T07:42:48.614413Z",
     "start_time": "2021-05-23T07:42:48.474107Z"
    }
   },
   "outputs": [],
   "source": [
    "# Load data\n",
    "with open(r\"./static/PageRank_df.pkl\", \"rb\") as input_file:\n",
    "    PageRank_df = cPickle.load(input_file)\n",
    "    PageRank_df['id'] = PageRank_df.id.apply(lambda x: re.sub(', ',',<br>',x,2)) #re.sub('\\\\\\\\','p', '\\\\vbj\\\\jjbb\\\\', 2  )\n",
    "\n",
    "with open(r\"./static/Edges_df.pkl\", \"rb\") as input_file:\n",
    "    Edges_df = cPickle.load(input_file)\n",
    "    Edges_df['dst'] = Edges_df.dst.apply(lambda x: re.sub(', ',',<br>',x,2))\n",
    "    \n",
    "with open(r\"./static/Vendor_IDandName_df.pkl\", \"rb\") as input_file:\n",
    "    Vend_idName_df = cPickle.load(input_file)    "
   ]
  },
  {
   "cell_type": "markdown",
   "metadata": {},
   "source": [
    " # Preparing Inputs"
   ]
  },
  {
   "cell_type": "code",
   "execution_count": 25,
   "metadata": {
    "ExecuteTime": {
     "end_time": "2021-05-23T07:42:50.996925Z",
     "start_time": "2021-05-23T07:42:50.906390Z"
    }
   },
   "outputs": [],
   "source": [
    "ent_type_dict = pd.Series(PageRank_df.Entity_type.values,\n",
    "                          index=PageRank_df.id).to_dict()\n",
    "\n",
    "df = QuarterWise_PageRankVariation(PageRank_df).round(2)\n",
    "Edges_df = Edges_df.merge(df[['id','Entity_type']],left_on='dst',right_on='id',how='left')"
   ]
  },
  {
   "cell_type": "markdown",
   "metadata": {},
   "source": [
    "# App HTML Layout "
   ]
  },
  {
   "cell_type": "code",
   "execution_count": 130,
   "metadata": {
    "ExecuteTime": {
     "end_time": "2021-05-23T11:32:15.412813Z",
     "start_time": "2021-05-23T11:32:15.350179Z"
    },
    "code_folding": [],
    "scrolled": true
   },
   "outputs": [
    {
     "name": "stdout",
     "output_type": "stream",
     "text": [
      "Dash app running on http://127.0.0.1:8050/\n"
     ]
    },
    {
     "name": "stderr",
     "output_type": "stream",
     "text": [
      "<ipython-input-130-23e4e56a8467>:77: FutureWarning:\n",
      "\n",
      "`item` has been deprecated and will be removed in a future version\n",
      "\n"
     ]
    }
   ],
   "source": [
    "# App initaialization\n",
    "\n",
    "# external deployment\n",
    "# app = dash.Dash(__name__, external_stylesheets=external_stylesheets)\n",
    "\n",
    "# deployment within notebook\n",
    "app = JupyterDash(__name__, external_stylesheets=[dbc.themes.BOOTSTRAP])\n",
    "\n",
    "# Layout design\n",
    "\n",
    "app.layout = html.Div([\n",
    "    dbc.Container([\n",
    "        dbc.Row([\n",
    "            dbc.Col([\n",
    "                html.Div([\n",
    "                    html.H2(children='PageRank Analysis for top Vendors'),\n",
    "                    html.Label('Select Quarter'),\n",
    "                    dcc.Dropdown(\n",
    "                        id='select-quarter',\n",
    "                        options=[\n",
    "                            {'label': 'Q2', 'value': 'Q2'},\n",
    "                            {'label': 'Q3', 'value': 'Q3'},\n",
    "                            {'label': 'Q4', 'value': 'Q4'}],\n",
    "                        value='Q2',\n",
    "                        clearable=False),\n",
    "                    dcc.Graph(id='top-vendor-bar'),\n",
    "                    dcc.Graph(id='entity-prv-bar')])\n",
    "            ], id='top-vendors', width=3),\n",
    "\n",
    "            dbc.Col([\n",
    "                html.Div([\n",
    "                    dbc.Row([\n",
    "                        dbc.Col([html.H5(id='select-quarter-vendor-graph',\n",
    "                                          style={\"margin-top\": \"10px\",\n",
    "                                                 \"margin-right\": \"10px\",\n",
    "                                                 \"margin-left\": \"45px\"})],width=6),\n",
    "                        dbc.Col([dcc.RadioItems(\n",
    "                            id='user-selected-quarter',\n",
    "                            options=[\n",
    "                                {'label': 'Q2 ', 'value': 'Q2'},\n",
    "                                {'label': 'Q3 ', 'value': 'Q3'},\n",
    "                                {'label': 'Q4 ', 'value': 'Q4'}],\n",
    "                            value='Q2',\n",
    "                            labelStyle={'display': 'inline-block',\n",
    "                                        \"margin-top\": \"10px\",\n",
    "                                        \"margin-right\": \"15px\",\n",
    "                                        \"margin-left\": \"15px\"}\n",
    "                        )],width=6)\n",
    "                    ]),\n",
    "                    dcc.Graph(id='vendor-graph')\n",
    "                ])\n",
    "            ], width=9)\n",
    "        ])\n",
    "    ]),\n",
    "    dcc.Store(id='selected-vendor')\n",
    "])\n",
    "\n",
    "\n",
    "@app.callback(\n",
    "    Output('select-quarter-vendor-graph', 'children'),\n",
    "    Input('selected-vendor', 'data'))\n",
    "def update_vendor_radiotit(Vendor):\n",
    "    return f\"View {Vendor.get('vendor')} graph in: \"\n",
    "\n",
    "\n",
    "@app.callback(\n",
    "    Output('selected-vendor', 'data'),\n",
    "    Input('top-vendor-bar', 'hoverData'),\n",
    "    Input('select-quarter', 'value'))\n",
    "def update_vendor(Vendor, quarter):\n",
    "    if Vendor is not None:\n",
    "        Vendor = Vendor['points'][0]['label']\n",
    "    else:\n",
    "        df_sub = (df[(df.Entity_type == 'VENDOR_ID') & (~df[f'PGRK_PrctCng_{quarter}'].isna())]\n",
    "                  [['id', f'PageRank_{quarter}', f'PGRK_PrctCng_{quarter}']]\n",
    "                  .sort_values(f'PGRK_PrctCng_{quarter}', ascending=False).head(1))\n",
    "        Vendor = df_sub.id.item()\n",
    "    return {'vendor': Vendor}\n",
    "\n",
    "\n",
    "@app.callback(\n",
    "    Output('user-selected-quarter', 'value'),\n",
    "    Input('select-quarter', 'value'),\n",
    "    Input('top-vendor-bar', 'hoverData'))\n",
    "def update_quarter_radio(quarter: 'Quarter',Vendor: 'Vendor'):\n",
    "    return quarter\n",
    "\n",
    "\n",
    "@app.callback(\n",
    "    Output('top-vendor-bar', 'figure'),\n",
    "    Input('select-quarter', 'value'))\n",
    "def create_TopVendor_bar(quarter: 'Quarter'):\n",
    "    return plot_TopVendor_bar(quarter)\n",
    "\n",
    "\n",
    "@app.callback(\n",
    "    Output('top-vendor-bar', 'hoverData'),\n",
    "    Input('select-quarter', 'value'))\n",
    "def update_hover_data(quarter):\n",
    "    return None\n",
    "\n",
    "@app.callback(\n",
    "    Output('entity-prv-bar', 'figure'),\n",
    "    Input('selected-vendor', 'data'),\n",
    "    Input('select-quarter', 'value'))\n",
    "def create_Ent_bar(Vendor,quarter):\n",
    "    Vendor = Vendor.get('vendor')\n",
    "    return Entity_PRvar_bar(Vendor,quarter)\n",
    "\n",
    "\n",
    "@app.callback(\n",
    "    Output('vendor-graph', 'figure'),\n",
    "    Input('selected-vendor', 'data'),\n",
    "    Input('user-selected-quarter', 'value'))\n",
    "def Create_graph(Vendor, quarter):\n",
    "    Vendor = Vendor.get('vendor')\n",
    "    return Plot_VenGraph(Vendor, quarter)\n",
    "\n",
    "\n",
    "app.run_server(mode='external')"
   ]
  },
  {
   "cell_type": "markdown",
   "metadata": {},
   "source": [
    "### PageRank Variation by Entity"
   ]
  },
  {
   "cell_type": "code",
   "execution_count": 54,
   "metadata": {
    "ExecuteTime": {
     "end_time": "2021-05-23T08:06:39.710949Z",
     "start_time": "2021-05-23T08:06:39.704071Z"
    }
   },
   "outputs": [],
   "source": [
    "Vendor = 'ACEUS0000032144'\n",
    "quarter = 'Q3'\n",
    "PageRank Variation by Entity\n",
    "def Entity_PRvar_bar(Vendor,quarter):\n",
    "    Edges_df_sub = Edges_df[(Edges_df.src==Vendor) & (Edges_df.Quarter==quarter)]\n",
    "\n",
    "    Edges_df_sub = Edges_df_sub[['dst','Entity_type']].merge(df[['id',f'PGRK_PrctCng_{quarter}']],left_on='dst',right_on='id',how='left')\n",
    "\n",
    "    agg_Ent_PR_var = Edges_df_sub.groupby('Entity_type').agg({f'PGRK_PrctCng_{quarter}': np.nanmean}).reset_index()\n",
    "\n",
    "    fig = px.bar(agg_Ent_PR_var,\n",
    "                 x=\"Entity_type\",\n",
    "                 y=f'PGRK_PrctCng_{quarter}',\n",
    "                 hover_data=[f'PGRK_PrctCng_{quarter}'],\n",
    "                 color=\"Entity_type\",\n",
    "                 color_discrete_map=color_dict,\n",
    "                 labels={'Entity_type': 'Entity',\n",
    "                         f'PGRK_PrctCng_{quarter}': 'PageRank Variation (%)'})\n",
    "    fig.update_layout(transition_duration=500,\n",
    "                      autosize=True,\n",
    "                      title_xanchor='left',\n",
    "                      title=f\"Entity PageRank variation for {Vendor} in {quarter}\",\n",
    "                      margin=dict(t=100,l=0,r=0),\n",
    "                      #xaxis=dict(side='top', title_standoff=0),\n",
    "                      showlegend= False)\n",
    "    return fig"
   ]
  },
  {
   "cell_type": "code",
   "execution_count": 53,
   "metadata": {
    "ExecuteTime": {
     "end_time": "2021-05-23T08:05:30.608676Z",
     "start_time": "2021-05-23T08:05:30.557235Z"
    }
   },
   "outputs": [
    {
     "data": {
      "application/vnd.plotly.v1+json": {
       "config": {
        "plotlyServerURL": "https://plot.ly"
       },
       "data": [
        {
         "alignmentgroup": "True",
         "hovertemplate": "Entity=%{x}<br>PageRank Variation (%)=%{y}<extra></extra>",
         "legendgroup": "ACCOUNT",
         "marker": {
          "color": "#00CC96"
         },
         "name": "ACCOUNT",
         "offsetgroup": "ACCOUNT",
         "orientation": "v",
         "showlegend": true,
         "textposition": "auto",
         "type": "bar",
         "x": [
          "ACCOUNT"
         ],
         "xaxis": "x",
         "y": [
          -32.46
         ],
         "yaxis": "y"
        },
        {
         "alignmentgroup": "True",
         "hovertemplate": "Entity=%{x}<br>PageRank Variation (%)=%{y}<extra></extra>",
         "legendgroup": "BUSINESS_UNIT",
         "marker": {
          "color": "#AB63FA"
         },
         "name": "BUSINESS_UNIT",
         "offsetgroup": "BUSINESS_UNIT",
         "orientation": "v",
         "showlegend": true,
         "textposition": "auto",
         "type": "bar",
         "x": [
          "BUSINESS_UNIT"
         ],
         "xaxis": "x",
         "y": [
          24.2
         ],
         "yaxis": "y"
        },
        {
         "alignmentgroup": "True",
         "hovertemplate": "Entity=%{x}<br>PageRank Variation (%)=%{y}<extra></extra>",
         "legendgroup": "Full_Address",
         "marker": {
          "color": "#EF553B"
         },
         "name": "Full_Address",
         "offsetgroup": "Full_Address",
         "orientation": "v",
         "showlegend": true,
         "textposition": "auto",
         "type": "bar",
         "x": [
          "Full_Address"
         ],
         "xaxis": "x",
         "y": [
          null
         ],
         "yaxis": "y"
        }
       ],
       "layout": {
        "autosize": true,
        "barmode": "relative",
        "legend": {
         "title": {
          "text": "Entity"
         },
         "tracegroupgap": 0
        },
        "margin": {
         "l": 0,
         "r": 0,
         "t": 100
        },
        "showlegend": false,
        "template": {
         "data": {
          "bar": [
           {
            "error_x": {
             "color": "#2a3f5f"
            },
            "error_y": {
             "color": "#2a3f5f"
            },
            "marker": {
             "line": {
              "color": "#E5ECF6",
              "width": 0.5
             }
            },
            "type": "bar"
           }
          ],
          "barpolar": [
           {
            "marker": {
             "line": {
              "color": "#E5ECF6",
              "width": 0.5
             }
            },
            "type": "barpolar"
           }
          ],
          "carpet": [
           {
            "aaxis": {
             "endlinecolor": "#2a3f5f",
             "gridcolor": "white",
             "linecolor": "white",
             "minorgridcolor": "white",
             "startlinecolor": "#2a3f5f"
            },
            "baxis": {
             "endlinecolor": "#2a3f5f",
             "gridcolor": "white",
             "linecolor": "white",
             "minorgridcolor": "white",
             "startlinecolor": "#2a3f5f"
            },
            "type": "carpet"
           }
          ],
          "choropleth": [
           {
            "colorbar": {
             "outlinewidth": 0,
             "ticks": ""
            },
            "type": "choropleth"
           }
          ],
          "contour": [
           {
            "colorbar": {
             "outlinewidth": 0,
             "ticks": ""
            },
            "colorscale": [
             [
              0,
              "#0d0887"
             ],
             [
              0.1111111111111111,
              "#46039f"
             ],
             [
              0.2222222222222222,
              "#7201a8"
             ],
             [
              0.3333333333333333,
              "#9c179e"
             ],
             [
              0.4444444444444444,
              "#bd3786"
             ],
             [
              0.5555555555555556,
              "#d8576b"
             ],
             [
              0.6666666666666666,
              "#ed7953"
             ],
             [
              0.7777777777777778,
              "#fb9f3a"
             ],
             [
              0.8888888888888888,
              "#fdca26"
             ],
             [
              1,
              "#f0f921"
             ]
            ],
            "type": "contour"
           }
          ],
          "contourcarpet": [
           {
            "colorbar": {
             "outlinewidth": 0,
             "ticks": ""
            },
            "type": "contourcarpet"
           }
          ],
          "heatmap": [
           {
            "colorbar": {
             "outlinewidth": 0,
             "ticks": ""
            },
            "colorscale": [
             [
              0,
              "#0d0887"
             ],
             [
              0.1111111111111111,
              "#46039f"
             ],
             [
              0.2222222222222222,
              "#7201a8"
             ],
             [
              0.3333333333333333,
              "#9c179e"
             ],
             [
              0.4444444444444444,
              "#bd3786"
             ],
             [
              0.5555555555555556,
              "#d8576b"
             ],
             [
              0.6666666666666666,
              "#ed7953"
             ],
             [
              0.7777777777777778,
              "#fb9f3a"
             ],
             [
              0.8888888888888888,
              "#fdca26"
             ],
             [
              1,
              "#f0f921"
             ]
            ],
            "type": "heatmap"
           }
          ],
          "heatmapgl": [
           {
            "colorbar": {
             "outlinewidth": 0,
             "ticks": ""
            },
            "colorscale": [
             [
              0,
              "#0d0887"
             ],
             [
              0.1111111111111111,
              "#46039f"
             ],
             [
              0.2222222222222222,
              "#7201a8"
             ],
             [
              0.3333333333333333,
              "#9c179e"
             ],
             [
              0.4444444444444444,
              "#bd3786"
             ],
             [
              0.5555555555555556,
              "#d8576b"
             ],
             [
              0.6666666666666666,
              "#ed7953"
             ],
             [
              0.7777777777777778,
              "#fb9f3a"
             ],
             [
              0.8888888888888888,
              "#fdca26"
             ],
             [
              1,
              "#f0f921"
             ]
            ],
            "type": "heatmapgl"
           }
          ],
          "histogram": [
           {
            "marker": {
             "colorbar": {
              "outlinewidth": 0,
              "ticks": ""
             }
            },
            "type": "histogram"
           }
          ],
          "histogram2d": [
           {
            "colorbar": {
             "outlinewidth": 0,
             "ticks": ""
            },
            "colorscale": [
             [
              0,
              "#0d0887"
             ],
             [
              0.1111111111111111,
              "#46039f"
             ],
             [
              0.2222222222222222,
              "#7201a8"
             ],
             [
              0.3333333333333333,
              "#9c179e"
             ],
             [
              0.4444444444444444,
              "#bd3786"
             ],
             [
              0.5555555555555556,
              "#d8576b"
             ],
             [
              0.6666666666666666,
              "#ed7953"
             ],
             [
              0.7777777777777778,
              "#fb9f3a"
             ],
             [
              0.8888888888888888,
              "#fdca26"
             ],
             [
              1,
              "#f0f921"
             ]
            ],
            "type": "histogram2d"
           }
          ],
          "histogram2dcontour": [
           {
            "colorbar": {
             "outlinewidth": 0,
             "ticks": ""
            },
            "colorscale": [
             [
              0,
              "#0d0887"
             ],
             [
              0.1111111111111111,
              "#46039f"
             ],
             [
              0.2222222222222222,
              "#7201a8"
             ],
             [
              0.3333333333333333,
              "#9c179e"
             ],
             [
              0.4444444444444444,
              "#bd3786"
             ],
             [
              0.5555555555555556,
              "#d8576b"
             ],
             [
              0.6666666666666666,
              "#ed7953"
             ],
             [
              0.7777777777777778,
              "#fb9f3a"
             ],
             [
              0.8888888888888888,
              "#fdca26"
             ],
             [
              1,
              "#f0f921"
             ]
            ],
            "type": "histogram2dcontour"
           }
          ],
          "mesh3d": [
           {
            "colorbar": {
             "outlinewidth": 0,
             "ticks": ""
            },
            "type": "mesh3d"
           }
          ],
          "parcoords": [
           {
            "line": {
             "colorbar": {
              "outlinewidth": 0,
              "ticks": ""
             }
            },
            "type": "parcoords"
           }
          ],
          "pie": [
           {
            "automargin": true,
            "type": "pie"
           }
          ],
          "scatter": [
           {
            "marker": {
             "colorbar": {
              "outlinewidth": 0,
              "ticks": ""
             }
            },
            "type": "scatter"
           }
          ],
          "scatter3d": [
           {
            "line": {
             "colorbar": {
              "outlinewidth": 0,
              "ticks": ""
             }
            },
            "marker": {
             "colorbar": {
              "outlinewidth": 0,
              "ticks": ""
             }
            },
            "type": "scatter3d"
           }
          ],
          "scattercarpet": [
           {
            "marker": {
             "colorbar": {
              "outlinewidth": 0,
              "ticks": ""
             }
            },
            "type": "scattercarpet"
           }
          ],
          "scattergeo": [
           {
            "marker": {
             "colorbar": {
              "outlinewidth": 0,
              "ticks": ""
             }
            },
            "type": "scattergeo"
           }
          ],
          "scattergl": [
           {
            "marker": {
             "colorbar": {
              "outlinewidth": 0,
              "ticks": ""
             }
            },
            "type": "scattergl"
           }
          ],
          "scattermapbox": [
           {
            "marker": {
             "colorbar": {
              "outlinewidth": 0,
              "ticks": ""
             }
            },
            "type": "scattermapbox"
           }
          ],
          "scatterpolar": [
           {
            "marker": {
             "colorbar": {
              "outlinewidth": 0,
              "ticks": ""
             }
            },
            "type": "scatterpolar"
           }
          ],
          "scatterpolargl": [
           {
            "marker": {
             "colorbar": {
              "outlinewidth": 0,
              "ticks": ""
             }
            },
            "type": "scatterpolargl"
           }
          ],
          "scatterternary": [
           {
            "marker": {
             "colorbar": {
              "outlinewidth": 0,
              "ticks": ""
             }
            },
            "type": "scatterternary"
           }
          ],
          "surface": [
           {
            "colorbar": {
             "outlinewidth": 0,
             "ticks": ""
            },
            "colorscale": [
             [
              0,
              "#0d0887"
             ],
             [
              0.1111111111111111,
              "#46039f"
             ],
             [
              0.2222222222222222,
              "#7201a8"
             ],
             [
              0.3333333333333333,
              "#9c179e"
             ],
             [
              0.4444444444444444,
              "#bd3786"
             ],
             [
              0.5555555555555556,
              "#d8576b"
             ],
             [
              0.6666666666666666,
              "#ed7953"
             ],
             [
              0.7777777777777778,
              "#fb9f3a"
             ],
             [
              0.8888888888888888,
              "#fdca26"
             ],
             [
              1,
              "#f0f921"
             ]
            ],
            "type": "surface"
           }
          ],
          "table": [
           {
            "cells": {
             "fill": {
              "color": "#EBF0F8"
             },
             "line": {
              "color": "white"
             }
            },
            "header": {
             "fill": {
              "color": "#C8D4E3"
             },
             "line": {
              "color": "white"
             }
            },
            "type": "table"
           }
          ]
         },
         "layout": {
          "annotationdefaults": {
           "arrowcolor": "#2a3f5f",
           "arrowhead": 0,
           "arrowwidth": 1
          },
          "autotypenumbers": "strict",
          "coloraxis": {
           "colorbar": {
            "outlinewidth": 0,
            "ticks": ""
           }
          },
          "colorscale": {
           "diverging": [
            [
             0,
             "#8e0152"
            ],
            [
             0.1,
             "#c51b7d"
            ],
            [
             0.2,
             "#de77ae"
            ],
            [
             0.3,
             "#f1b6da"
            ],
            [
             0.4,
             "#fde0ef"
            ],
            [
             0.5,
             "#f7f7f7"
            ],
            [
             0.6,
             "#e6f5d0"
            ],
            [
             0.7,
             "#b8e186"
            ],
            [
             0.8,
             "#7fbc41"
            ],
            [
             0.9,
             "#4d9221"
            ],
            [
             1,
             "#276419"
            ]
           ],
           "sequential": [
            [
             0,
             "#0d0887"
            ],
            [
             0.1111111111111111,
             "#46039f"
            ],
            [
             0.2222222222222222,
             "#7201a8"
            ],
            [
             0.3333333333333333,
             "#9c179e"
            ],
            [
             0.4444444444444444,
             "#bd3786"
            ],
            [
             0.5555555555555556,
             "#d8576b"
            ],
            [
             0.6666666666666666,
             "#ed7953"
            ],
            [
             0.7777777777777778,
             "#fb9f3a"
            ],
            [
             0.8888888888888888,
             "#fdca26"
            ],
            [
             1,
             "#f0f921"
            ]
           ],
           "sequentialminus": [
            [
             0,
             "#0d0887"
            ],
            [
             0.1111111111111111,
             "#46039f"
            ],
            [
             0.2222222222222222,
             "#7201a8"
            ],
            [
             0.3333333333333333,
             "#9c179e"
            ],
            [
             0.4444444444444444,
             "#bd3786"
            ],
            [
             0.5555555555555556,
             "#d8576b"
            ],
            [
             0.6666666666666666,
             "#ed7953"
            ],
            [
             0.7777777777777778,
             "#fb9f3a"
            ],
            [
             0.8888888888888888,
             "#fdca26"
            ],
            [
             1,
             "#f0f921"
            ]
           ]
          },
          "colorway": [
           "#636efa",
           "#EF553B",
           "#00cc96",
           "#ab63fa",
           "#FFA15A",
           "#19d3f3",
           "#FF6692",
           "#B6E880",
           "#FF97FF",
           "#FECB52"
          ],
          "font": {
           "color": "#2a3f5f"
          },
          "geo": {
           "bgcolor": "white",
           "lakecolor": "white",
           "landcolor": "#E5ECF6",
           "showlakes": true,
           "showland": true,
           "subunitcolor": "white"
          },
          "hoverlabel": {
           "align": "left"
          },
          "hovermode": "closest",
          "mapbox": {
           "style": "light"
          },
          "paper_bgcolor": "white",
          "plot_bgcolor": "#E5ECF6",
          "polar": {
           "angularaxis": {
            "gridcolor": "white",
            "linecolor": "white",
            "ticks": ""
           },
           "bgcolor": "#E5ECF6",
           "radialaxis": {
            "gridcolor": "white",
            "linecolor": "white",
            "ticks": ""
           }
          },
          "scene": {
           "xaxis": {
            "backgroundcolor": "#E5ECF6",
            "gridcolor": "white",
            "gridwidth": 2,
            "linecolor": "white",
            "showbackground": true,
            "ticks": "",
            "zerolinecolor": "white"
           },
           "yaxis": {
            "backgroundcolor": "#E5ECF6",
            "gridcolor": "white",
            "gridwidth": 2,
            "linecolor": "white",
            "showbackground": true,
            "ticks": "",
            "zerolinecolor": "white"
           },
           "zaxis": {
            "backgroundcolor": "#E5ECF6",
            "gridcolor": "white",
            "gridwidth": 2,
            "linecolor": "white",
            "showbackground": true,
            "ticks": "",
            "zerolinecolor": "white"
           }
          },
          "shapedefaults": {
           "line": {
            "color": "#2a3f5f"
           }
          },
          "ternary": {
           "aaxis": {
            "gridcolor": "white",
            "linecolor": "white",
            "ticks": ""
           },
           "baxis": {
            "gridcolor": "white",
            "linecolor": "white",
            "ticks": ""
           },
           "bgcolor": "#E5ECF6",
           "caxis": {
            "gridcolor": "white",
            "linecolor": "white",
            "ticks": ""
           }
          },
          "title": {
           "x": 0.05
          },
          "xaxis": {
           "automargin": true,
           "gridcolor": "white",
           "linecolor": "white",
           "ticks": "",
           "title": {
            "standoff": 15
           },
           "zerolinecolor": "white",
           "zerolinewidth": 2
          },
          "yaxis": {
           "automargin": true,
           "gridcolor": "white",
           "linecolor": "white",
           "ticks": "",
           "title": {
            "standoff": 15
           },
           "zerolinecolor": "white",
           "zerolinewidth": 2
          }
         }
        },
        "title": {
         "text": "Entity PageRank variation for ACEUS0000032144 in Q3"
        },
        "transition": {
         "duration": 500
        },
        "xaxis": {
         "anchor": "y",
         "categoryarray": [
          "ACCOUNT",
          "BUSINESS_UNIT",
          "Full_Address"
         ],
         "categoryorder": "array",
         "domain": [
          0,
          1
         ],
         "title": {
          "text": "Entity"
         }
        },
        "yaxis": {
         "anchor": "x",
         "domain": [
          0,
          1
         ],
         "title": {
          "text": "PageRank Variation (%)"
         }
        }
       }
      },
      "text/html": [
       "<div>                            <div id=\"f0df848d-a612-45dd-a007-85094b8ba48a\" class=\"plotly-graph-div\" style=\"height:525px; width:100%;\"></div>            <script type=\"text/javascript\">                require([\"plotly\"], function(Plotly) {                    window.PLOTLYENV=window.PLOTLYENV || {};                                    if (document.getElementById(\"f0df848d-a612-45dd-a007-85094b8ba48a\")) {                    Plotly.newPlot(                        \"f0df848d-a612-45dd-a007-85094b8ba48a\",                        [{\"alignmentgroup\": \"True\", \"hovertemplate\": \"Entity=%{x}<br>PageRank Variation (%)=%{y}<extra></extra>\", \"legendgroup\": \"ACCOUNT\", \"marker\": {\"color\": \"#00CC96\"}, \"name\": \"ACCOUNT\", \"offsetgroup\": \"ACCOUNT\", \"orientation\": \"v\", \"showlegend\": true, \"textposition\": \"auto\", \"type\": \"bar\", \"x\": [\"ACCOUNT\"], \"xaxis\": \"x\", \"y\": [-32.46], \"yaxis\": \"y\"}, {\"alignmentgroup\": \"True\", \"hovertemplate\": \"Entity=%{x}<br>PageRank Variation (%)=%{y}<extra></extra>\", \"legendgroup\": \"BUSINESS_UNIT\", \"marker\": {\"color\": \"#AB63FA\"}, \"name\": \"BUSINESS_UNIT\", \"offsetgroup\": \"BUSINESS_UNIT\", \"orientation\": \"v\", \"showlegend\": true, \"textposition\": \"auto\", \"type\": \"bar\", \"x\": [\"BUSINESS_UNIT\"], \"xaxis\": \"x\", \"y\": [24.2], \"yaxis\": \"y\"}, {\"alignmentgroup\": \"True\", \"hovertemplate\": \"Entity=%{x}<br>PageRank Variation (%)=%{y}<extra></extra>\", \"legendgroup\": \"Full_Address\", \"marker\": {\"color\": \"#EF553B\"}, \"name\": \"Full_Address\", \"offsetgroup\": \"Full_Address\", \"orientation\": \"v\", \"showlegend\": true, \"textposition\": \"auto\", \"type\": \"bar\", \"x\": [\"Full_Address\"], \"xaxis\": \"x\", \"y\": [null], \"yaxis\": \"y\"}],                        {\"autosize\": true, \"barmode\": \"relative\", \"legend\": {\"title\": {\"text\": \"Entity\"}, \"tracegroupgap\": 0}, \"margin\": {\"l\": 0, \"r\": 0, \"t\": 100}, \"showlegend\": false, \"template\": {\"data\": {\"bar\": [{\"error_x\": {\"color\": \"#2a3f5f\"}, \"error_y\": {\"color\": \"#2a3f5f\"}, \"marker\": {\"line\": {\"color\": \"#E5ECF6\", \"width\": 0.5}}, \"type\": \"bar\"}], \"barpolar\": [{\"marker\": {\"line\": {\"color\": \"#E5ECF6\", \"width\": 0.5}}, \"type\": \"barpolar\"}], \"carpet\": [{\"aaxis\": {\"endlinecolor\": \"#2a3f5f\", \"gridcolor\": \"white\", \"linecolor\": \"white\", \"minorgridcolor\": \"white\", \"startlinecolor\": \"#2a3f5f\"}, \"baxis\": {\"endlinecolor\": \"#2a3f5f\", \"gridcolor\": \"white\", \"linecolor\": \"white\", \"minorgridcolor\": \"white\", \"startlinecolor\": \"#2a3f5f\"}, \"type\": \"carpet\"}], \"choropleth\": [{\"colorbar\": {\"outlinewidth\": 0, \"ticks\": \"\"}, \"type\": \"choropleth\"}], \"contour\": [{\"colorbar\": {\"outlinewidth\": 0, \"ticks\": \"\"}, \"colorscale\": [[0.0, \"#0d0887\"], [0.1111111111111111, \"#46039f\"], [0.2222222222222222, \"#7201a8\"], [0.3333333333333333, \"#9c179e\"], [0.4444444444444444, \"#bd3786\"], [0.5555555555555556, \"#d8576b\"], [0.6666666666666666, \"#ed7953\"], [0.7777777777777778, \"#fb9f3a\"], [0.8888888888888888, \"#fdca26\"], [1.0, \"#f0f921\"]], \"type\": \"contour\"}], \"contourcarpet\": [{\"colorbar\": {\"outlinewidth\": 0, \"ticks\": \"\"}, \"type\": \"contourcarpet\"}], \"heatmap\": [{\"colorbar\": {\"outlinewidth\": 0, \"ticks\": \"\"}, \"colorscale\": [[0.0, \"#0d0887\"], [0.1111111111111111, \"#46039f\"], [0.2222222222222222, \"#7201a8\"], [0.3333333333333333, \"#9c179e\"], [0.4444444444444444, \"#bd3786\"], [0.5555555555555556, \"#d8576b\"], [0.6666666666666666, \"#ed7953\"], [0.7777777777777778, \"#fb9f3a\"], [0.8888888888888888, \"#fdca26\"], [1.0, \"#f0f921\"]], \"type\": \"heatmap\"}], \"heatmapgl\": [{\"colorbar\": {\"outlinewidth\": 0, \"ticks\": \"\"}, \"colorscale\": [[0.0, \"#0d0887\"], [0.1111111111111111, \"#46039f\"], [0.2222222222222222, \"#7201a8\"], [0.3333333333333333, \"#9c179e\"], [0.4444444444444444, \"#bd3786\"], [0.5555555555555556, \"#d8576b\"], [0.6666666666666666, \"#ed7953\"], [0.7777777777777778, \"#fb9f3a\"], [0.8888888888888888, \"#fdca26\"], [1.0, \"#f0f921\"]], \"type\": \"heatmapgl\"}], \"histogram\": [{\"marker\": {\"colorbar\": {\"outlinewidth\": 0, \"ticks\": \"\"}}, \"type\": \"histogram\"}], \"histogram2d\": [{\"colorbar\": {\"outlinewidth\": 0, \"ticks\": \"\"}, \"colorscale\": [[0.0, \"#0d0887\"], [0.1111111111111111, \"#46039f\"], [0.2222222222222222, \"#7201a8\"], [0.3333333333333333, \"#9c179e\"], [0.4444444444444444, \"#bd3786\"], [0.5555555555555556, \"#d8576b\"], [0.6666666666666666, \"#ed7953\"], [0.7777777777777778, \"#fb9f3a\"], [0.8888888888888888, \"#fdca26\"], [1.0, \"#f0f921\"]], \"type\": \"histogram2d\"}], \"histogram2dcontour\": [{\"colorbar\": {\"outlinewidth\": 0, \"ticks\": \"\"}, \"colorscale\": [[0.0, \"#0d0887\"], [0.1111111111111111, \"#46039f\"], [0.2222222222222222, \"#7201a8\"], [0.3333333333333333, \"#9c179e\"], [0.4444444444444444, \"#bd3786\"], [0.5555555555555556, \"#d8576b\"], [0.6666666666666666, \"#ed7953\"], [0.7777777777777778, \"#fb9f3a\"], [0.8888888888888888, \"#fdca26\"], [1.0, \"#f0f921\"]], \"type\": \"histogram2dcontour\"}], \"mesh3d\": [{\"colorbar\": {\"outlinewidth\": 0, \"ticks\": \"\"}, \"type\": \"mesh3d\"}], \"parcoords\": [{\"line\": {\"colorbar\": {\"outlinewidth\": 0, \"ticks\": \"\"}}, \"type\": \"parcoords\"}], \"pie\": [{\"automargin\": true, \"type\": \"pie\"}], \"scatter\": [{\"marker\": {\"colorbar\": {\"outlinewidth\": 0, \"ticks\": \"\"}}, \"type\": \"scatter\"}], \"scatter3d\": [{\"line\": {\"colorbar\": {\"outlinewidth\": 0, \"ticks\": \"\"}}, \"marker\": {\"colorbar\": {\"outlinewidth\": 0, \"ticks\": \"\"}}, \"type\": \"scatter3d\"}], \"scattercarpet\": [{\"marker\": {\"colorbar\": {\"outlinewidth\": 0, \"ticks\": \"\"}}, \"type\": \"scattercarpet\"}], \"scattergeo\": [{\"marker\": {\"colorbar\": {\"outlinewidth\": 0, \"ticks\": \"\"}}, \"type\": \"scattergeo\"}], \"scattergl\": [{\"marker\": {\"colorbar\": {\"outlinewidth\": 0, \"ticks\": \"\"}}, \"type\": \"scattergl\"}], \"scattermapbox\": [{\"marker\": {\"colorbar\": {\"outlinewidth\": 0, \"ticks\": \"\"}}, \"type\": \"scattermapbox\"}], \"scatterpolar\": [{\"marker\": {\"colorbar\": {\"outlinewidth\": 0, \"ticks\": \"\"}}, \"type\": \"scatterpolar\"}], \"scatterpolargl\": [{\"marker\": {\"colorbar\": {\"outlinewidth\": 0, \"ticks\": \"\"}}, \"type\": \"scatterpolargl\"}], \"scatterternary\": [{\"marker\": {\"colorbar\": {\"outlinewidth\": 0, \"ticks\": \"\"}}, \"type\": \"scatterternary\"}], \"surface\": [{\"colorbar\": {\"outlinewidth\": 0, \"ticks\": \"\"}, \"colorscale\": [[0.0, \"#0d0887\"], [0.1111111111111111, \"#46039f\"], [0.2222222222222222, \"#7201a8\"], [0.3333333333333333, \"#9c179e\"], [0.4444444444444444, \"#bd3786\"], [0.5555555555555556, \"#d8576b\"], [0.6666666666666666, \"#ed7953\"], [0.7777777777777778, \"#fb9f3a\"], [0.8888888888888888, \"#fdca26\"], [1.0, \"#f0f921\"]], \"type\": \"surface\"}], \"table\": [{\"cells\": {\"fill\": {\"color\": \"#EBF0F8\"}, \"line\": {\"color\": \"white\"}}, \"header\": {\"fill\": {\"color\": \"#C8D4E3\"}, \"line\": {\"color\": \"white\"}}, \"type\": \"table\"}]}, \"layout\": {\"annotationdefaults\": {\"arrowcolor\": \"#2a3f5f\", \"arrowhead\": 0, \"arrowwidth\": 1}, \"autotypenumbers\": \"strict\", \"coloraxis\": {\"colorbar\": {\"outlinewidth\": 0, \"ticks\": \"\"}}, \"colorscale\": {\"diverging\": [[0, \"#8e0152\"], [0.1, \"#c51b7d\"], [0.2, \"#de77ae\"], [0.3, \"#f1b6da\"], [0.4, \"#fde0ef\"], [0.5, \"#f7f7f7\"], [0.6, \"#e6f5d0\"], [0.7, \"#b8e186\"], [0.8, \"#7fbc41\"], [0.9, \"#4d9221\"], [1, \"#276419\"]], \"sequential\": [[0.0, \"#0d0887\"], [0.1111111111111111, \"#46039f\"], [0.2222222222222222, \"#7201a8\"], [0.3333333333333333, \"#9c179e\"], [0.4444444444444444, \"#bd3786\"], [0.5555555555555556, \"#d8576b\"], [0.6666666666666666, \"#ed7953\"], [0.7777777777777778, \"#fb9f3a\"], [0.8888888888888888, \"#fdca26\"], [1.0, \"#f0f921\"]], \"sequentialminus\": [[0.0, \"#0d0887\"], [0.1111111111111111, \"#46039f\"], [0.2222222222222222, \"#7201a8\"], [0.3333333333333333, \"#9c179e\"], [0.4444444444444444, \"#bd3786\"], [0.5555555555555556, \"#d8576b\"], [0.6666666666666666, \"#ed7953\"], [0.7777777777777778, \"#fb9f3a\"], [0.8888888888888888, \"#fdca26\"], [1.0, \"#f0f921\"]]}, \"colorway\": [\"#636efa\", \"#EF553B\", \"#00cc96\", \"#ab63fa\", \"#FFA15A\", \"#19d3f3\", \"#FF6692\", \"#B6E880\", \"#FF97FF\", \"#FECB52\"], \"font\": {\"color\": \"#2a3f5f\"}, \"geo\": {\"bgcolor\": \"white\", \"lakecolor\": \"white\", \"landcolor\": \"#E5ECF6\", \"showlakes\": true, \"showland\": true, \"subunitcolor\": \"white\"}, \"hoverlabel\": {\"align\": \"left\"}, \"hovermode\": \"closest\", \"mapbox\": {\"style\": \"light\"}, \"paper_bgcolor\": \"white\", \"plot_bgcolor\": \"#E5ECF6\", \"polar\": {\"angularaxis\": {\"gridcolor\": \"white\", \"linecolor\": \"white\", \"ticks\": \"\"}, \"bgcolor\": \"#E5ECF6\", \"radialaxis\": {\"gridcolor\": \"white\", \"linecolor\": \"white\", \"ticks\": \"\"}}, \"scene\": {\"xaxis\": {\"backgroundcolor\": \"#E5ECF6\", \"gridcolor\": \"white\", \"gridwidth\": 2, \"linecolor\": \"white\", \"showbackground\": true, \"ticks\": \"\", \"zerolinecolor\": \"white\"}, \"yaxis\": {\"backgroundcolor\": \"#E5ECF6\", \"gridcolor\": \"white\", \"gridwidth\": 2, \"linecolor\": \"white\", \"showbackground\": true, \"ticks\": \"\", \"zerolinecolor\": \"white\"}, \"zaxis\": {\"backgroundcolor\": \"#E5ECF6\", \"gridcolor\": \"white\", \"gridwidth\": 2, \"linecolor\": \"white\", \"showbackground\": true, \"ticks\": \"\", \"zerolinecolor\": \"white\"}}, \"shapedefaults\": {\"line\": {\"color\": \"#2a3f5f\"}}, \"ternary\": {\"aaxis\": {\"gridcolor\": \"white\", \"linecolor\": \"white\", \"ticks\": \"\"}, \"baxis\": {\"gridcolor\": \"white\", \"linecolor\": \"white\", \"ticks\": \"\"}, \"bgcolor\": \"#E5ECF6\", \"caxis\": {\"gridcolor\": \"white\", \"linecolor\": \"white\", \"ticks\": \"\"}}, \"title\": {\"x\": 0.05}, \"xaxis\": {\"automargin\": true, \"gridcolor\": \"white\", \"linecolor\": \"white\", \"ticks\": \"\", \"title\": {\"standoff\": 15}, \"zerolinecolor\": \"white\", \"zerolinewidth\": 2}, \"yaxis\": {\"automargin\": true, \"gridcolor\": \"white\", \"linecolor\": \"white\", \"ticks\": \"\", \"title\": {\"standoff\": 15}, \"zerolinecolor\": \"white\", \"zerolinewidth\": 2}}}, \"title\": {\"text\": \"Entity PageRank variation for ACEUS0000032144 in Q3\"}, \"transition\": {\"duration\": 500}, \"xaxis\": {\"anchor\": \"y\", \"categoryarray\": [\"ACCOUNT\", \"BUSINESS_UNIT\", \"Full_Address\"], \"categoryorder\": \"array\", \"domain\": [0.0, 1.0], \"title\": {\"text\": \"Entity\"}}, \"yaxis\": {\"anchor\": \"x\", \"domain\": [0.0, 1.0], \"title\": {\"text\": \"PageRank Variation (%)\"}}},                        {\"responsive\": true}                    ).then(function(){\n",
       "                            \n",
       "var gd = document.getElementById('f0df848d-a612-45dd-a007-85094b8ba48a');\n",
       "var x = new MutationObserver(function (mutations, observer) {{\n",
       "        var display = window.getComputedStyle(gd).display;\n",
       "        if (!display || display === 'none') {{\n",
       "            console.log([gd, 'removed!']);\n",
       "            Plotly.purge(gd);\n",
       "            observer.disconnect();\n",
       "        }}\n",
       "}});\n",
       "\n",
       "// Listen for the removal of the full notebook cells\n",
       "var notebookContainer = gd.closest('#notebook-container');\n",
       "if (notebookContainer) {{\n",
       "    x.observe(notebookContainer, {childList: true});\n",
       "}}\n",
       "\n",
       "// Listen for the clearing of the current output cell\n",
       "var outputEl = gd.closest('.output');\n",
       "if (outputEl) {{\n",
       "    x.observe(outputEl, {childList: true});\n",
       "}}\n",
       "\n",
       "                        })                };                });            </script>        </div>"
      ]
     },
     "metadata": {},
     "output_type": "display_data"
    }
   ],
   "source": []
  },
  {
   "cell_type": "code",
   "execution_count": 37,
   "metadata": {
    "ExecuteTime": {
     "end_time": "2021-05-23T07:52:53.002572Z",
     "start_time": "2021-05-23T07:52:52.993823Z"
    }
   },
   "outputs": [
    {
     "data": {
      "text/html": [
       "<div>\n",
       "<style scoped>\n",
       "    .dataframe tbody tr th:only-of-type {\n",
       "        vertical-align: middle;\n",
       "    }\n",
       "\n",
       "    .dataframe tbody tr th {\n",
       "        vertical-align: top;\n",
       "    }\n",
       "\n",
       "    .dataframe thead th {\n",
       "        text-align: right;\n",
       "    }\n",
       "</style>\n",
       "<table border=\"1\" class=\"dataframe\">\n",
       "  <thead>\n",
       "    <tr style=\"text-align: right;\">\n",
       "      <th></th>\n",
       "      <th>dst</th>\n",
       "      <th>Entity_type</th>\n",
       "      <th>id</th>\n",
       "      <th>PGRK_PrctCng_Q3</th>\n",
       "    </tr>\n",
       "  </thead>\n",
       "  <tbody>\n",
       "    <tr>\n",
       "      <th>0</th>\n",
       "      <td>LA QUINTA INN &amp; SUITES,&lt;br&gt;THOUSAND OAKS NEWBU...</td>\n",
       "      <td>Full_Address</td>\n",
       "      <td>LA QUINTA INN &amp; SUITES,&lt;br&gt;THOUSAND OAKS NEWBU...</td>\n",
       "      <td>NaN</td>\n",
       "    </tr>\n",
       "    <tr>\n",
       "      <th>3</th>\n",
       "      <td>LA QUINTA INN &amp; SUITES,&lt;br&gt;CHARLESTON RIVERVIE...</td>\n",
       "      <td>Full_Address</td>\n",
       "      <td>LA QUINTA INN &amp; SUITES,&lt;br&gt;CHARLESTON RIVERVIE...</td>\n",
       "      <td>NaN</td>\n",
       "    </tr>\n",
       "    <tr>\n",
       "      <th>4</th>\n",
       "      <td>LA QUINTA INN &amp; SUITES,&lt;br&gt;COLUMBIA JESSUP,&lt;br...</td>\n",
       "      <td>Full_Address</td>\n",
       "      <td>LA QUINTA INN &amp; SUITES,&lt;br&gt;COLUMBIA JESSUP,&lt;br...</td>\n",
       "      <td>NaN</td>\n",
       "    </tr>\n",
       "  </tbody>\n",
       "</table>\n",
       "</div>"
      ],
      "text/plain": [
       "                                                 dst   Entity_type  \\\n",
       "0  LA QUINTA INN & SUITES,<br>THOUSAND OAKS NEWBU...  Full_Address   \n",
       "3  LA QUINTA INN & SUITES,<br>CHARLESTON RIVERVIE...  Full_Address   \n",
       "4  LA QUINTA INN & SUITES,<br>COLUMBIA JESSUP,<br...  Full_Address   \n",
       "\n",
       "                                                  id  PGRK_PrctCng_Q3  \n",
       "0  LA QUINTA INN & SUITES,<br>THOUSAND OAKS NEWBU...              NaN  \n",
       "3  LA QUINTA INN & SUITES,<br>CHARLESTON RIVERVIE...              NaN  \n",
       "4  LA QUINTA INN & SUITES,<br>COLUMBIA JESSUP,<br...              NaN  "
      ]
     },
     "execution_count": 37,
     "metadata": {},
     "output_type": "execute_result"
    }
   ],
   "source": [
    "Edges_df_sub[Edges_df_sub.Entity_type == 'Full_Address']"
   ]
  },
  {
   "cell_type": "code",
   "execution_count": 11,
   "metadata": {
    "ExecuteTime": {
     "end_time": "2021-05-23T07:28:35.665189Z",
     "start_time": "2021-05-23T07:28:35.433292Z"
    }
   },
   "outputs": [
    {
     "data": {
      "text/html": [
       "<div>\n",
       "<style scoped>\n",
       "    .dataframe tbody tr th:only-of-type {\n",
       "        vertical-align: middle;\n",
       "    }\n",
       "\n",
       "    .dataframe tbody tr th {\n",
       "        vertical-align: top;\n",
       "    }\n",
       "\n",
       "    .dataframe thead th {\n",
       "        text-align: right;\n",
       "    }\n",
       "</style>\n",
       "<table border=\"1\" class=\"dataframe\">\n",
       "  <thead>\n",
       "    <tr style=\"text-align: right;\">\n",
       "      <th></th>\n",
       "      <th>id</th>\n",
       "      <th>Entity_type</th>\n",
       "      <th>PageRank_Q1</th>\n",
       "      <th>PageRank_Q2</th>\n",
       "      <th>PageRank_Q3</th>\n",
       "      <th>PageRank_Q4</th>\n",
       "      <th>PGRK_PrctCng_Q2</th>\n",
       "      <th>PGRK_PrctCng_Q3</th>\n",
       "      <th>PGRK_PrctCng_Q4</th>\n",
       "    </tr>\n",
       "  </thead>\n",
       "  <tbody>\n",
       "    <tr>\n",
       "      <th>0</th>\n",
       "      <td></td>\n",
       "      <td>Full_Address</td>\n",
       "      <td>177.13</td>\n",
       "      <td>140.41</td>\n",
       "      <td>76.53</td>\n",
       "      <td>85.71</td>\n",
       "      <td>-20.73</td>\n",
       "      <td>-45.50</td>\n",
       "      <td>12.01</td>\n",
       "    </tr>\n",
       "    <tr>\n",
       "      <th>1</th>\n",
       "      <td>,&lt;br&gt;BLVD DE LA PLAINE 11,&lt;br&gt;B-1050, BRUSSEL...</td>\n",
       "      <td>Full_Address</td>\n",
       "      <td>0.44</td>\n",
       "      <td>0.45</td>\n",
       "      <td>0.45</td>\n",
       "      <td>0.41</td>\n",
       "      <td>0.77</td>\n",
       "      <td>0.21</td>\n",
       "      <td>-8.79</td>\n",
       "    </tr>\n",
       "    <tr>\n",
       "      <th>2</th>\n",
       "      <td>,&lt;br&gt;FORTIUS 7 2134,&lt;br&gt;HOOFDDROP, NLD</td>\n",
       "      <td>Full_Address</td>\n",
       "      <td>NaN</td>\n",
       "      <td>0.33</td>\n",
       "      <td>NaN</td>\n",
       "      <td>NaN</td>\n",
       "      <td>NaN</td>\n",
       "      <td>NaN</td>\n",
       "      <td>NaN</td>\n",
       "    </tr>\n",
       "    <tr>\n",
       "      <th>3</th>\n",
       "      <td>,&lt;br&gt;SANTIAGO DE LOS CABALLEROS,&lt;br&gt;DOM</td>\n",
       "      <td>Full_Address</td>\n",
       "      <td>NaN</td>\n",
       "      <td>NaN</td>\n",
       "      <td>0.28</td>\n",
       "      <td>NaN</td>\n",
       "      <td>NaN</td>\n",
       "      <td>NaN</td>\n",
       "      <td>NaN</td>\n",
       "    </tr>\n",
       "    <tr>\n",
       "      <th>4</th>\n",
       "      <td>,&lt;br&gt;VOLKSPLEIN 70,&lt;br&gt;MAASTRICT, NLD</td>\n",
       "      <td>Full_Address</td>\n",
       "      <td>NaN</td>\n",
       "      <td>0.33</td>\n",
       "      <td>NaN</td>\n",
       "      <td>NaN</td>\n",
       "      <td>NaN</td>\n",
       "      <td>NaN</td>\n",
       "      <td>NaN</td>\n",
       "    </tr>\n",
       "  </tbody>\n",
       "</table>\n",
       "</div>"
      ],
      "text/plain": [
       "                                                  id   Entity_type  \\\n",
       "0                                                     Full_Address   \n",
       "1   ,<br>BLVD DE LA PLAINE 11,<br>B-1050, BRUSSEL...  Full_Address   \n",
       "2             ,<br>FORTIUS 7 2134,<br>HOOFDDROP, NLD  Full_Address   \n",
       "3            ,<br>SANTIAGO DE LOS CABALLEROS,<br>DOM  Full_Address   \n",
       "4              ,<br>VOLKSPLEIN 70,<br>MAASTRICT, NLD  Full_Address   \n",
       "\n",
       "   PageRank_Q1  PageRank_Q2  PageRank_Q3  PageRank_Q4  PGRK_PrctCng_Q2  \\\n",
       "0       177.13       140.41        76.53        85.71           -20.73   \n",
       "1         0.44         0.45         0.45         0.41             0.77   \n",
       "2          NaN         0.33          NaN          NaN              NaN   \n",
       "3          NaN          NaN         0.28          NaN              NaN   \n",
       "4          NaN         0.33          NaN          NaN              NaN   \n",
       "\n",
       "   PGRK_PrctCng_Q3  PGRK_PrctCng_Q4  \n",
       "0           -45.50            12.01  \n",
       "1             0.21            -8.79  \n",
       "2              NaN              NaN  \n",
       "3              NaN              NaN  \n",
       "4              NaN              NaN  "
      ]
     },
     "execution_count": 11,
     "metadata": {},
     "output_type": "execute_result"
    }
   ],
   "source": [
    "def plot_TopVendor_bar(quarter: 'Quarter'):\n",
    "    df_sub = (df[(df.Entity_type == 'VENDOR_ID') & (~df[f'PGRK_PrctCng_{quarter}'].isna())]\n",
    "              [['id', f'PageRank_{quarter}', f'PGRK_PrctCng_{quarter}']]\n",
    "              .sort_values(f'PGRK_PrctCng_{quarter}', ascending=True).tail(10))\n",
    "    fig = px.bar(df_sub,\n",
    "                 y=\"id\",\n",
    "                 x=f'PGRK_PrctCng_{quarter}',\n",
    "                 text='id',\n",
    "                 hover_data=[f'PageRank_{quarter}'],\n",
    "                 labels={'id': 'Vendor',\n",
    "                         f'PGRK_PrctCng_{quarter}': 'PageRank Variation (%)',\n",
    "                         f'PageRank_{quarter}': 'PageRank'},\n",
    "                orientation='h')\n",
    "    fig.update_layout(transition_duration=500,\n",
    "                      autosize=True,\n",
    "                      title_xanchor='left',\n",
    "                      title=f\"Top Vendors by PageRank variation in {quarter}\",\n",
    "                      xaxis=dict(side='top',title_standoff=0),\n",
    "                      yaxis=dict(visible=False, showgrid=False,zeroline=False, showticklabels=False),\n",
    "                      margin=dict(t=100,l=0,r=0),\n",
    "                      height=500,\n",
    "                      \n",
    "    #                       height=650\n",
    "                     )\n",
    "    return fig"
   ]
  },
  {
   "cell_type": "code",
   "execution_count": null,
   "metadata": {},
   "outputs": [],
   "source": []
  }
 ],
 "metadata": {
  "kernelspec": {
   "display_name": "DashPlotly",
   "language": "python",
   "name": "dashplotly"
  },
  "language_info": {
   "codemirror_mode": {
    "name": "ipython",
    "version": 3
   },
   "file_extension": ".py",
   "mimetype": "text/x-python",
   "name": "python",
   "nbconvert_exporter": "python",
   "pygments_lexer": "ipython3",
   "version": "3.8.8"
  },
  "toc": {
   "base_numbering": 1,
   "nav_menu": {},
   "number_sections": true,
   "sideBar": true,
   "skip_h1_title": false,
   "title_cell": "Table of Contents",
   "title_sidebar": "Contents",
   "toc_cell": false,
   "toc_position": {},
   "toc_section_display": true,
   "toc_window_display": false
  }
 },
 "nbformat": 4,
 "nbformat_minor": 4
}
