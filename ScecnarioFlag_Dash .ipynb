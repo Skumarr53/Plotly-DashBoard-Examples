{
 "cells": [
  {
   "cell_type": "code",
   "execution_count": 1,
   "metadata": {
    "ExecuteTime": {
     "end_time": "2021-05-31T17:04:51.825903Z",
     "start_time": "2021-05-31T17:04:39.967972Z"
    }
   },
   "outputs": [
    {
     "data": {
      "text/html": [
       "<style>.container { width:100% !important; }</style>"
      ],
      "text/plain": [
       "<IPython.core.display.HTML object>"
      ]
     },
     "metadata": {},
     "output_type": "display_data"
    }
   ],
   "source": [
    "from IPython.core.display import display, HTML\n",
    "display(HTML(\"<style>.container { width:100% !important; }</style>\"))\n",
    "\n",
    "import re\n",
    "import dash\n",
    "from jupyter_dash import JupyterDash\n",
    "import dash_bootstrap_components as dbc\n",
    "import dash_core_components as dcc\n",
    "import dash_html_components as html\n",
    "from dash.dependencies import Input, Output, State\n",
    "import plotly.express as px\n",
    "import networkx as nx\n",
    "import plotly.graph_objects as go\n",
    "import _pickle as cPickle\n",
    "import pandas as pd\n",
    "import numpy as np\n",
    "import calendar\n"
   ]
  },
  {
   "cell_type": "markdown",
   "metadata": {},
   "source": [
    "## Utility Functions"
   ]
  },
  {
   "cell_type": "markdown",
   "metadata": {},
   "source": [
    "### Benford Plot"
   ]
  },
  {
   "cell_type": "code",
   "execution_count": 54,
   "metadata": {
    "ExecuteTime": {
     "end_time": "2021-05-31T17:56:44.473261Z",
     "start_time": "2021-05-31T17:56:44.463520Z"
    }
   },
   "outputs": [],
   "source": [
    "def Benfords_plot(BU):\n",
    "    if BU!='ALL':    \n",
    "        Lead_ser = flags_df.lead_digit[(flags_df.lead_digit != '0') & (flags_df.lead_digit != '-') & (flags_df.BUSINESS_UNIT==BU)]\n",
    "    else:\n",
    "        Lead_ser = flags_df.lead_digit[(flags_df.lead_digit != '0') & (flags_df.lead_digit != '-')]\n",
    "\n",
    "    lead_df = Lead_ser.value_counts(normalize=True).sort_index().reindex([str(i) for i in range(1,10)]).to_frame().reset_index()\n",
    "    lead_df.columns = ['digit','freq']\n",
    "    lead_df['freq'] = lead_df['freq']*100\n",
    "    lead_df = lead_df.sort_values('digit').round(2)\n",
    "\n",
    "    BENFORD = [30.1, 17.6, 12.5, 9.7, 7.9, 6.7, 5.8, 5.1, 4.6]\n",
    "\n",
    "    fig = px.bar(lead_df,y='freq',x='digit',\n",
    "                labels={'digit':'First digit of Gross Amount',\n",
    "                        'freq': 'Relative Frequency (%)'},\n",
    "                 text='freq')\n",
    "    fig.add_trace(go.Scatter(y=BENFORD,x=list(range(1,10))))\n",
    "    fig.update_layout(transition_duration=500,\n",
    "                      autosize=True,\n",
    "                      title=f\"Benford's law distribution for Bussiness Unit {BU} <br>transactions: {len(Lead_ser)}\" if BU!='ALL' else f\"Benford's law distribution across Bussiness Units <br>transactions: {len(Lead_ser)}\",\n",
    "                      showlegend=False,\n",
    "                      margin=dict(t=75,l=50,r=0))\n",
    "    return fig"
   ]
  },
  {
   "cell_type": "markdown",
   "metadata": {},
   "source": [
    "### Flag Proportion Plot"
   ]
  },
  {
   "cell_type": "code",
   "execution_count": 3,
   "metadata": {
    "ExecuteTime": {
     "end_time": "2021-05-31T17:04:51.951025Z",
     "start_time": "2021-05-31T17:04:51.831217Z"
    }
   },
   "outputs": [],
   "source": [
    "def Flag_prop_plot(start, end):    \n",
    "    flags_df_sub = flags_df[(flags_df.trans_month>=start) & (flags_df.trans_month<=end)]\n",
    "    flags_prop = flags_df_sub[Flag_cols].sum()/len(flags_df_sub)\n",
    "\n",
    "    flags_prop_df = flags_prop.to_frame().reset_index()\n",
    "    flags_prop_df.columns = ['flag_label','freq']\n",
    "    flags_prop_df['freq'] = flags_prop_df['freq']*100\n",
    "    flags_prop_df = flags_prop_df.round(2)\n",
    "    flags_prop_df['label_name'] = flags_prop_df.flag_label.replace(flag_lab2name)\n",
    "    \n",
    "    fig = px.bar(flags_prop_df,y='freq',x='label_name',\n",
    "                 labels={'label_name':'Scenario',\n",
    "                            'freq': 'Percent in total transaction'},\n",
    "                color='label_name',\n",
    "                color_discrete_map=color_dict)\n",
    "\n",
    "    \n",
    "    fig.update_layout(transition_duration=500,\n",
    "                      title=None,\n",
    "                      autosize=True,\n",
    "                     xaxis=dict(visible=False, showgrid=False,zeroline=False, showticklabels=False),\n",
    "                     margin=dict(t=20,l=30,r=0,b=0),\n",
    "                     width=1250)\n",
    "    return fig"
   ]
  },
  {
   "cell_type": "markdown",
   "metadata": {},
   "source": [
    "## Loading Datasets"
   ]
  },
  {
   "cell_type": "code",
   "execution_count": 4,
   "metadata": {
    "ExecuteTime": {
     "end_time": "2021-05-31T17:04:52.383453Z",
     "start_time": "2021-05-31T17:04:51.952466Z"
    }
   },
   "outputs": [],
   "source": [
    "with open(r\"./Fraud1_Flags.pkl\", \"rb\") as input_file:\n",
    "    flags_df = cPickle.load(input_file)\n",
    "    \n",
    "flags_df.INVOICE_DT = pd.to_datetime(flags_df.INVOICE_DT)\n",
    "flags_df['trans_month'] = flags_df['INVOICE_DT'].dt.month\n",
    "\n",
    "month_num_to_name = {month:index  for index, month in enumerate(calendar.month_abbr) if month}\n",
    "flags_df['lead_digit'] = flags_df['GROSS_AMT'].astype(str).str[0]\n",
    "\n",
    "flags_df = flags_df.drop('Is_MultiVendor_SameAcc', axis=1)\n",
    "\n",
    "month_num_to_name_rev = {y:x for x,y in month_num_to_name.items()}"
   ]
  },
  {
   "cell_type": "code",
   "execution_count": 17,
   "metadata": {
    "ExecuteTime": {
     "end_time": "2021-05-31T17:25:31.908409Z",
     "start_time": "2021-05-31T17:25:31.894969Z"
    }
   },
   "outputs": [],
   "source": [
    "BU_options=[{'label': 'ALL', 'value': 'ALL'}]\n",
    "for bu in flags_df.BUSINESS_UNIT.value_counts().index:\n",
    "    BU_options.append( {'label': bu, 'value': bu})\n",
    "    \n",
    "Month_options=[]\n",
    "for nm, num in month_num_to_name.items():\n",
    "    Month_options.append({'label': nm, 'value': num})"
   ]
  },
  {
   "cell_type": "code",
   "execution_count": 18,
   "metadata": {
    "ExecuteTime": {
     "end_time": "2021-05-31T17:25:33.657955Z",
     "start_time": "2021-05-31T17:25:33.654876Z"
    }
   },
   "outputs": [],
   "source": [
    "Flag_cols = ['Is_Multi_VendorId',\n",
    "             'Is_Multi_VendorAddress',\n",
    "             'Is_Invoice_Sequential',\n",
    "             'Is_Inv_inconsistent',\n",
    "             'Is_pymt_withinSevenDays',\n",
    "             'Is_Paid_grtn_InvAmt',\n",
    "             'Is_GrossAmt_rounded',\n",
    "             'Is_NegBalance',\n",
    "             'Is_duplicateInvID',\n",
    "             'Is_duplicate_InvDt',\n",
    "             'Is_SingleApprover',\n",
    "             #'Is_MultiVendor_SameAcc',\n",
    "             'Is_pymt_priorToInvoice',\n",
    "             'Is_MultiVendor_SameAdd']\n",
    "\n",
    "flag_lab2name = {'Is_Multi_VendorId': 'Transactions  from vendor with multiple vendor ids',\n",
    " 'Is_Multi_VendorAddress': 'Transaction form vendor with multiple Addresses',\n",
    " 'Is_Invoice_Sequential': 'Transactions with Sequntial Invoices',\n",
    " 'Is_Inv_inconsistent' : 'Transactions with Inconsistent Invoices',\n",
    " 'Is_pymt_withinSevenDays' : 'Transactions payment within Seven days',\n",
    " 'Is_Paid_grtn_InvAmt': 'Payment higher than invoice mamount transactions',\n",
    " 'Is_GrossAmt_rounded': 'Rounded amounts transactions',\n",
    " 'Is_NegBalance': 'Negative Balances transactions',\n",
    " 'Is_duplicateInvID' :'Duplicate invocies transactions by Invoice no',\n",
    " 'Is_duplicate_InvDt' :'Duplicate invocies transactions by Invoice date',\n",
    " 'Is_SingleApprover' : 'Transactions  from vendor with Single Approver',\n",
    " #'Is_MultiVendor_SameAcc' : 'Multiple Vendors using Same Account',\n",
    " 'Is_pymt_priorToInvoice' : 'Transactions  with payment Prior to Invoice date',\n",
    " 'Is_MultiVendor_SameAdd' : 'Transactions  from multiple vendors with same Address'\n",
    "}\n",
    "\n",
    "colorlist = ['#636EFA','#EF553B','#00CC96','#AB63FA','#FFA15A','#19D3F3','#FF6692','#B6E880','#FF97FF','#FECB52','#0048BA','#C46210','#A67B5B']"
   ]
  },
  {
   "cell_type": "code",
   "execution_count": 19,
   "metadata": {
    "ExecuteTime": {
     "end_time": "2021-05-31T17:25:35.929874Z",
     "start_time": "2021-05-31T17:25:35.927088Z"
    }
   },
   "outputs": [],
   "source": [
    "color_dict = {x:y for x,y in zip(flag_lab2name.values(),colorlist)}"
   ]
  },
  {
   "cell_type": "markdown",
   "metadata": {
    "ExecuteTime": {
     "end_time": "2021-05-26T12:36:46.595997Z",
     "start_time": "2021-05-26T12:36:46.592994Z"
    }
   },
   "source": [
    "## Html LayOut"
   ]
  },
  {
   "cell_type": "code",
   "execution_count": 69,
   "metadata": {
    "ExecuteTime": {
     "end_time": "2021-05-31T18:23:38.212744Z",
     "start_time": "2021-05-31T18:23:37.869778Z"
    },
    "scrolled": false
   },
   "outputs": [
    {
     "name": "stdout",
     "output_type": "stream",
     "text": [
      "Dash app running on http://127.0.0.1:5002/\n"
     ]
    }
   ],
   "source": [
    "from dash.exceptions import PreventUpdate\n",
    "\n",
    "app = JupyterDash(__name__, external_stylesheets=[dbc.themes.BOOTSTRAP])\n",
    "\n",
    "\n",
    "app.layout = html.Div([\n",
    "    dbc.Container([\n",
    "        dbc.Row([html.H2(children='Benford and Flag Analysis')]),\n",
    "        dbc.Row([\n",
    "            dbc.Col([\n",
    "                html.Div([html.Label('Select Bussiness unit'),\n",
    "                          dcc.Dropdown(id='select-bu',\n",
    "                                       options=BU_options,\n",
    "                                       value='ALL',\n",
    "                                       clearable=False),\n",
    "                          dcc.Graph(id='benford-bar-graph')])\n",
    "            ], id='top-vendors', width=3),\n",
    "            dbc.Col([\n",
    "                html.Div([\n",
    "                    dbc.Row([\n",
    "                        html.Div([\n",
    "                            html.Label('Start Month:'),\n",
    "                            dcc.Dropdown(\n",
    "                                id='start-month',\n",
    "                                options=Month_options,\n",
    "                                value=1,\n",
    "                                clearable=False)],\n",
    "                        style={'paddingLeft':'15px',\n",
    "                               'paddingRight':'15px'}),\n",
    "                        html.Div([\n",
    "                            html.Label('End Month:'),\n",
    "                            dcc.Dropdown(\n",
    "                                id='end-month',\n",
    "                                options=Month_options,\n",
    "                                value=12,\n",
    "                                clearable=False)])\n",
    "                    ]),\n",
    "                    dbc.Row([html.H5(id='prop-chart-title',\n",
    "                                    style={\"margin-top\": \"10px\"})]),\n",
    "                    dbc.Row([dcc.Graph(id='flag-prop-graph')])\n",
    "                ],style={\"margin-left\": \"45px\"})\n",
    "            ])\n",
    "        ])\n",
    "    ]),\n",
    "    dcc.Download(id=\"download-dataframe-csv\")\n",
    "])\n",
    "\n",
    "@app.callback(\n",
    "    Output('prop-chart-title', 'children'),\n",
    "    Input('start-month', 'value'),\n",
    "    Input('end-month', 'value'))\n",
    "def updatePchart_title(start,end):\n",
    "    return f\"Flagged transactions precent between {month_num_to_name_rev[start]} and {month_num_to_name_rev[end]}\"\n",
    "\n",
    "@app.callback(\n",
    "    Output('benford-bar-graph', 'figure'),\n",
    "    Input('select-bu', 'value'))\n",
    "def create_benford_plot(bu):\n",
    "    return Benfords_plot(bu)\n",
    "\n",
    "@app.callback(\n",
    "    Output(\"download-dataframe-csv\", \"data\"),\n",
    "    Input('flag-prop-graph', 'clickData'))\n",
    "def click_data_download(clic_dat):\n",
    "    if clic_dat is None:\n",
    "        raise PreventUpdate\n",
    "    scen = a['points'][0]['label']\n",
    "    scen2colnm = {y:x for x,y in flag_lab2name.items()}\n",
    "    colnm = scen2colnm[scen]\n",
    "    flags_df_sub = flags_df[flags_df[colnm]==1]\n",
    "    return dcc.send_data_frame(flags_df_sub.to_csv, \n",
    "                               f\"{scen.replace(' ','_')}.csv\")\n",
    "    \n",
    "@app.callback(\n",
    "    Output('flag-prop-graph', 'figure'),\n",
    "    Input('start-month', 'value'),\n",
    "    Input('end-month', 'value'))\n",
    "def create_Flag_prop_plot(start,end):\n",
    "    return Flag_prop_plot(int(start), int(end))\n",
    "\n",
    "app.run_server(mode='external', port=5002)"
   ]
  }
 ],
 "metadata": {
  "kernelspec": {
   "display_name": "DashPlotly",
   "language": "python",
   "name": "dashplotly"
  },
  "language_info": {
   "codemirror_mode": {
    "name": "ipython",
    "version": 3
   },
   "file_extension": ".py",
   "mimetype": "text/x-python",
   "name": "python",
   "nbconvert_exporter": "python",
   "pygments_lexer": "ipython3",
   "version": "3.8.8"
  },
  "toc": {
   "base_numbering": 1,
   "nav_menu": {},
   "number_sections": true,
   "sideBar": true,
   "skip_h1_title": false,
   "title_cell": "Table of Contents",
   "title_sidebar": "Contents",
   "toc_cell": false,
   "toc_position": {},
   "toc_section_display": true,
   "toc_window_display": false
  }
 },
 "nbformat": 4,
 "nbformat_minor": 4
}
